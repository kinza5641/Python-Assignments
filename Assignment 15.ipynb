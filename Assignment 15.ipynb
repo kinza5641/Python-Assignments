{
 "cells": [
  {
   "cell_type": "code",
   "execution_count": 34,
   "id": "143da9c0",
   "metadata": {},
   "outputs": [
    {
     "name": "stdout",
     "output_type": "stream",
     "text": [
      "Name: Aqsa\n",
      "Age: 16\n",
      "Score: 75\n"
     ]
    }
   ],
   "source": [
    "# Define a class Student with attributes name, age, score. Create an instance and print its attributes.\n",
    "\n",
    "class Student:\n",
    "    def __init__(self, name, age, score):\n",
    "        self.name = name\n",
    "        self.age = age\n",
    "        self.score = score\n",
    "\n",
    "student1 = Student(\"Aqsa\", 16, 75)\n",
    "\n",
    "print(\"Name:\", student1.name)\n",
    "print(\"Age:\", student1.age)\n",
    "print(\"Score:\", student1.score)"
   ]
  },
  {
   "cell_type": "code",
   "execution_count": 35,
   "id": "968b1d97",
   "metadata": {},
   "outputs": [
    {
     "name": "stdout",
     "output_type": "stream",
     "text": [
      "Aqsa is 20 years old and scored 75 marks.\n"
     ]
    }
   ],
   "source": [
    "# Add a method display_info() to Student to print a sentence about the student.\n",
    "class Student:\n",
    "    def __init__(self, name, age, score):\n",
    "        self.name = name\n",
    "        self.age = age\n",
    "        self.score = score\n",
    "\n",
    "    def display_info(self):\n",
    "        print(f\"{self.name} is {self.age} years old and scored {self.score} marks.\")\n",
    "\n",
    "student1 = Student(\"Aqsa\", 20, 75)\n",
    "student1.display_info()"
   ]
  },
  {
   "cell_type": "code",
   "execution_count": 36,
   "id": "5516bcee",
   "metadata": {},
   "outputs": [
    {
     "name": "stdout",
     "output_type": "stream",
     "text": [
      "Has Passed: True\n"
     ]
    }
   ],
   "source": [
    "# Define a method has_passed() that returns True if score >= 50, else False.\n",
    "\n",
    "class Student:\n",
    "    def __init__(self, name, age, score):\n",
    "        self.name = name\n",
    "        self.age = age\n",
    "        self.score = score\n",
    "\n",
    "    def has_passed(self):\n",
    "        return self.score >= 50\n",
    "\n",
    "student1 = Student(\"Aqsa\", 20, 75)\n",
    "print(\"Has Passed:\", student1.has_passed())"
   ]
  },
  {
   "cell_type": "code",
   "execution_count": 13,
   "id": "46668d89",
   "metadata": {},
   "outputs": [
    {
     "name": "stdout",
     "output_type": "stream",
     "text": [
      "Sir Faizan is teaching Python.\n"
     ]
    }
   ],
   "source": [
    "# Create a second class Teacher with name, subject, and a method teach(). Instantiate and call its method.\n",
    "class Teacher:\n",
    "    def __init__(self, name, subject):\n",
    "        self.name = name\n",
    "        self.subject = subject\n",
    "\n",
    "    def teach(self):\n",
    "        print(f\"{self.name} is teaching {self.subject}.\")\n",
    "\n",
    "teacher1 = Teacher(\"Sir Faizan\", \"Python\")\n",
    "teacher1.teach()"
   ]
  },
  {
   "cell_type": "code",
   "execution_count": 37,
   "id": "f7f58c12",
   "metadata": {},
   "outputs": [
    {
     "name": "stdout",
     "output_type": "stream",
     "text": [
      "School: GUJAR AI School\n"
     ]
    }
   ],
   "source": [
    "# Modify Student class to include a class variable school = \"GUJAR AI School\" and print it from instances.\n",
    "\n",
    "class Student:\n",
    "    school = \"GUJAR AI School\" \n",
    "\n",
    "    def __init__(self, name, age, score):\n",
    "        self.name = name\n",
    "        self.age = age\n",
    "        self.score = score\n",
    "\n",
    "student1 = Student(\"Aqsa\", 20, 75)\n",
    "print(\"School:\", student1.school)\n"
   ]
  },
  {
   "cell_type": "code",
   "execution_count": 38,
   "id": "4313fb55",
   "metadata": {},
   "outputs": [
    {
     "name": "stdout",
     "output_type": "stream",
     "text": [
      "True\n",
      "True\n"
     ]
    }
   ],
   "source": [
    "# Create two student objects and compare if they are instances of Student using isinstance().\n",
    "\n",
    "student1 = Student(\"kiran\", 20, 75)\n",
    "student2 = Student(\"Saira\", 15, 45)\n",
    "\n",
    "print(isinstance(student1, Student))  \n",
    "print(isinstance(student2, Student))  "
   ]
  },
  {
   "cell_type": "code",
   "execution_count": 39,
   "id": "9793108d",
   "metadata": {},
   "outputs": [
    {
     "name": "stdout",
     "output_type": "stream",
     "text": [
      "kiran has been added to Python Programming.\n",
      "Saira has been added to Python Programming.\n"
     ]
    }
   ],
   "source": [
    "# Create a Course class with attributes title and students (a list). Add a method to add students.\n",
    "class Course:\n",
    "    def __init__(self, title):\n",
    "        self.title = title\n",
    "        self.students = []\n",
    "\n",
    "    def add_student(self, student):\n",
    "        self.students.append(student)\n",
    "        print(f\"{student.name} has been added to {self.title}.\")\n",
    "\n",
    "course1 = Course(\"Python Programming\")\n",
    "course1.add_student(student1)\n",
    "course1.add_student(student2)"
   ]
  },
  {
   "cell_type": "code",
   "execution_count": 28,
   "id": "fd41a408",
   "metadata": {},
   "outputs": [
    {
     "name": "stdout",
     "output_type": "stream",
     "text": [
      "Average Score: 60.0\n"
     ]
    }
   ],
   "source": [
    "# Write a method in Course to compute the average score of enrolled students.\n",
    "\n",
    "class Course:\n",
    "    def __init__(self, title):\n",
    "        self.title = title\n",
    "        self.students = []\n",
    "\n",
    "    def add_student(self, student):\n",
    "        self.students.append(student)\n",
    "\n",
    "    def average_score(self):\n",
    "        if not self.students:\n",
    "            return 0\n",
    "        total = sum(student.score for student in self.students)\n",
    "        return total / len(self.students)\n",
    "\n",
    "course1 = Course(\"Python Programming\")\n",
    "course1.add_student(student1)\n",
    "course1.add_student(student2)\n",
    "print(\"Average Score:\", course1.average_score())"
   ]
  },
  {
   "cell_type": "code",
   "execution_count": 46,
   "id": "84d21b1f",
   "metadata": {},
   "outputs": [
    {
     "name": "stdout",
     "output_type": "stream",
     "text": [
      "<__main__.Student object at 0x0000023D070F2120>\n"
     ]
    }
   ],
   "source": [
    "# Override the _str_() method in Student class to return a custom string.\n",
    "\n",
    "class Student:\n",
    "    school = \"GUJAR AI School\"\n",
    "\n",
    "    def __init__(self, name, age, score):\n",
    "        self.name = name\n",
    "        self.age = age\n",
    "        self.score = score\n",
    "\n",
    "    def _str_(self):\n",
    "        return f\"Student: {self.name}, Age: {self.age}, Score: {self.score}\"\n",
    "\n",
    "student1 = Student(\"kiran\", 20, 75)\n",
    "print(student1)  "
   ]
  },
  {
   "cell_type": "code",
   "execution_count": 47,
   "id": "3974648b",
   "metadata": {},
   "outputs": [
    {
     "name": "stdout",
     "output_type": "stream",
     "text": [
      "['__class__', '__delattr__', '__dict__', '__dir__', '__doc__', '__eq__', '__firstlineno__', '__format__', '__ge__', '__getattribute__', '__getstate__', '__gt__', '__hash__', '__init__', '__init_subclass__', '__le__', '__lt__', '__module__', '__ne__', '__new__', '__reduce__', '__reduce_ex__', '__repr__', '__setattr__', '__sizeof__', '__static_attributes__', '__str__', '__subclasshook__', '__weakref__', 'age', 'display_info', 'name', 'score']\n"
     ]
    }
   ],
   "source": [
    "# Use the dir() function to list attributes & methods of an instance of any class.\n",
    "\n",
    "class Student:\n",
    "    def __init__(self, name, age, score):\n",
    "        self.name = name\n",
    "        self.age = age\n",
    "        self.score = score\n",
    "        \n",
    "    def display_info(self):\n",
    "        print(f\"{self.name} is {self.age} years old and scored {self.score} marks.\")\n",
    "\n",
    "\n",
    "student1 = Student(\"kiran\", 20, 75)\n",
    "print(dir(student1))"
   ]
  }
 ],
 "metadata": {
  "kernelspec": {
   "display_name": "Python 3",
   "language": "python",
   "name": "python3"
  },
  "language_info": {
   "codemirror_mode": {
    "name": "ipython",
    "version": 3
   },
   "file_extension": ".py",
   "mimetype": "text/x-python",
   "name": "python",
   "nbconvert_exporter": "python",
   "pygments_lexer": "ipython3",
   "version": "3.13.5"
  }
 },
 "nbformat": 4,
 "nbformat_minor": 5
}
