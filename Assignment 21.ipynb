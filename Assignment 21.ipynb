{
 "cells": [
  {
   "cell_type": "code",
   "execution_count": 25,
   "id": "d0050f06",
   "metadata": {},
   "outputs": [],
   "source": [
    "# Write two async functions (task1 & task2), each await asyncio.sleep(), and print their start/end messages.\n",
    "\n",
    "import asyncio\n",
    "async def task1():\n",
    "    print(\"Task 1 started\")\n",
    "    await asyncio.sleep(2)\n",
    "    print(\"Task 1 completed\")\n",
    "\n",
    "async def task2():\n",
    "    print(\"Task 2 started\")\n",
    "    await asyncio.sleep(3)\n",
    "    print(\"Task 2 completed\")"
   ]
  },
  {
   "cell_type": "code",
   "execution_count": 26,
   "id": "51337974",
   "metadata": {},
   "outputs": [
    {
     "name": "stdout",
     "output_type": "stream",
     "text": [
      "Task 1 started\n",
      "Task 1 completed\n",
      "Task 2 started\n",
      "Task 2 completed\n"
     ]
    }
   ],
   "source": [
    "# Use asyncio.run() to execute them sequentially.\n",
    "\n",
    "import asyncio\n",
    "async def task1():\n",
    "    print(\"Task 1 started\")\n",
    "    await asyncio.sleep(2)\n",
    "    print(\"Task 1 completed\")\n",
    "\n",
    "async def task2():\n",
    "    print(\"Task 2 started\")\n",
    "    await asyncio.sleep(3)\n",
    "    print(\"Task 2 completed\")\n",
    "async def run_sequential():\n",
    "    await task1()\n",
    "    await task2()\n",
    "\n",
    "await(run_sequential())"
   ]
  },
  {
   "cell_type": "code",
   "execution_count": 27,
   "id": "54cb7a6d",
   "metadata": {},
   "outputs": [
    {
     "name": "stdout",
     "output_type": "stream",
     "text": [
      "Task 1 started\n",
      "Task 2 started\n",
      "Task 1 completed\n",
      "Task 2 completed\n",
      "Total execution time: 3.30 seconds\n"
     ]
    }
   ],
   "source": [
    "# Combine them with asyncio.gather() to run both concurrently and print the total execution time.\n",
    "\n",
    "import time\n",
    "async def run_concurrent():\n",
    "    start = time.time()\n",
    "    await asyncio.gather(task1(), task2())  # both run together\n",
    "    end = time.time()\n",
    "    print(f\"Total execution time: {end - start:.2f} seconds\")\n",
    "\n",
    "await(run_concurrent())"
   ]
  },
  {
   "cell_type": "code",
   "execution_count": 29,
   "id": "fe5a8d69",
   "metadata": {},
   "outputs": [
    {
     "name": "stdout",
     "output_type": "stream",
     "text": [
      "Fetching https://example.com/1...\n",
      "Fetching https://google.com/1...\n",
      "Done https://example.com/1\n",
      "Done https://google.com/1\n"
     ]
    }
   ],
   "source": [
    "# Create a coroutine that fetches a URL using aiohttp (or simulate with sleep) and use it in asyncio.gather().\n",
    "\n",
    "async def fetch_url(url):\n",
    "    print(f\"Fetching {url}...\")\n",
    "    await asyncio.sleep(2)  # simulate network delay\n",
    "    print(f\"Done {url}\")\n",
    "    return f\"Content of {url}\"\n",
    "\n",
    "async def run_fetch():\n",
    "    results = await asyncio.gather(\n",
    "        fetch_url(\"https://example.com/1\"),\n",
    "        fetch_url(\"https://google.com/1\"))\n",
    "await(run_fetch())\n"
   ]
  },
  {
   "cell_type": "code",
   "execution_count": 19,
   "id": "6750291d",
   "metadata": {},
   "outputs": [
    {
     "name": "stdout",
     "output_type": "stream",
     "text": [
      "Main function started\n",
      "Main function is still running...\n",
      "Background task completed!\n"
     ]
    }
   ],
   "source": [
    "# Use asyncio.create_task() to schedule a coroutine and demonstrate that it runs after the \n",
    "# current function continues.\n",
    "\n",
    "async def background_task():\n",
    "    await asyncio.sleep(2)\n",
    "    print(\"Background task completed!\")\n",
    "\n",
    "async def run_with_create_task():\n",
    "    print(\"Main function started\")\n",
    "    task = asyncio.create_task(background_task())\n",
    "    print(\"Main function is still running...\")\n",
    "    await task  # wait for background to finish\n",
    "\n",
    "await(run_with_create_task())"
   ]
  },
  {
   "cell_type": "code",
   "execution_count": null,
   "id": "cc05efce",
   "metadata": {},
   "outputs": [
    {
     "name": "stdout",
     "output_type": "stream",
     "text": [
      "Task B finished after 1s\n",
      "Task C finished after 2s\n",
      "Task A finished after 3s\n"
     ]
    }
   ],
   "source": [
    "# Use asyncio.sleep() with different durations and print messages when each completes using asyncio.as_completed().\n",
    "\n",
    "async def sleeper(name, seconds):\n",
    "    await asyncio.sleep(seconds)\n",
    "    return f\"{name} finished after {seconds}s\"\n",
    "\n",
    "async def run_as_completed():\n",
    "    tasks = [\n",
    "        sleeper(\"Task A\", 3),\n",
    "        sleeper(\"Task B\", 1),\n",
    "        sleeper(\"Task C\", 2),\n",
    "    ]\n",
    "    for finished in asyncio.as_completed(tasks):\n",
    "        result = await finished\n",
    "        print(result)\n",
    "\n",
    "await(run_as_completed())"
   ]
  },
  {
   "cell_type": "code",
   "execution_count": null,
   "id": "4ebfbeea",
   "metadata": {},
   "outputs": [
    {
     "name": "stdout",
     "output_type": "stream",
     "text": [
      "Task 1 printing 0\n",
      "Task 1 printing 1\n",
      "Task 1 printing 2\n",
      "Task 2 printing 0\n",
      "Task 2 printing 1\n",
      "Task 2 printing 2\n"
     ]
    }
   ],
   "source": [
    "# Implement an asyncio.Lock() that two coroutines must acquire before printing to avoid interleaved output.\n",
    "\n",
    "lock = asyncio.Lock()\n",
    "async def safe_print(name):\n",
    "    async with lock:\n",
    "        for i in range(3):\n",
    "            print(f\"{name} printing {i}\")\n",
    "            await asyncio.sleep(1)\n",
    "\n",
    "async def run_lock():\n",
    "    await asyncio.gather(safe_print(\"Task 1\"), safe_print(\"Task 2\"))\n",
    "\n",
    "await(run_lock())"
   ]
  },
  {
   "cell_type": "code",
   "execution_count": 22,
   "id": "35a73a90",
   "metadata": {},
   "outputs": [
    {
     "name": "stdout",
     "output_type": "stream",
     "text": [
      "Produced 0\n",
      "Consumed 0\n",
      "Produced 1\n",
      "Consumed 1\n",
      "Produced 2\n",
      "Consumed 2\n",
      "Produced 3\n",
      "Consumed 3\n",
      "Produced 4\n",
      "Consumed 4\n"
     ]
    }
   ],
   "source": [
    "# Create a producer-consumer pattern using asyncio.Queue()—producer puts items, consumer retrieves them.\n",
    "\n",
    "async def producer(queue):\n",
    "    for i in range(5):\n",
    "        await asyncio.sleep(1)\n",
    "        await queue.put(i)\n",
    "        print(f\"Produced {i}\")\n",
    "    await queue.put(None)  # end signal\n",
    "\n",
    "async def consumer(queue):\n",
    "    while True:\n",
    "        item = await queue.get()\n",
    "        if item is None:\n",
    "            break\n",
    "        print(f\"Consumed {item}\")\n",
    "\n",
    "async def run_queue():\n",
    "    queue = asyncio.Queue()\n",
    "    await asyncio.gather(producer(queue), consumer(queue))\n",
    "\n",
    "await(run_queue())"
   ]
  },
  {
   "cell_type": "code",
   "execution_count": 30,
   "id": "0d7a5166",
   "metadata": {},
   "outputs": [
    {
     "name": "stdout",
     "output_type": "stream",
     "text": [
      "Task cancelled due to timeout!\n"
     ]
    }
   ],
   "source": [
    "# Use asyncio.wait_for() to cancel a coroutine if it exceeds a timeout.\n",
    "\n",
    "async def slow_task():\n",
    "    await asyncio.sleep(5)\n",
    "    return \"Finished!\"\n",
    "\n",
    "async def run_with_timeout():\n",
    "    try:\n",
    "        result = await asyncio.wait_for(slow_task(), timeout=2)\n",
    "        print(result)\n",
    "    except asyncio.TimeoutError:\n",
    "        print(\"Task cancelled due to timeout!\")\n",
    "\n",
    "await(run_with_timeout())"
   ]
  },
  {
   "cell_type": "code",
   "execution_count": 31,
   "id": "1eaee3b6",
   "metadata": {},
   "outputs": [
    {
     "name": "stdout",
     "output_type": "stream",
     "text": [
      "Task started\n",
      "Error handled: Something went wrong!\n"
     ]
    }
   ],
   "source": [
    "# Demonstrate error handling in async functions using try/except inside an async function.\n",
    "\n",
    "async def risky_task():\n",
    "    try:\n",
    "        print(\"Task started\")\n",
    "        await asyncio.sleep(1)\n",
    "        raise ValueError(\"Something went wrong!\")\n",
    "    except Exception as e:\n",
    "        print(f\"Error handled: {e}\")\n",
    "\n",
    "await(risky_task())"
   ]
  }
 ],
 "metadata": {
  "kernelspec": {
   "display_name": "Python 3",
   "language": "python",
   "name": "python3"
  },
  "language_info": {
   "codemirror_mode": {
    "name": "ipython",
    "version": 3
   },
   "file_extension": ".py",
   "mimetype": "text/x-python",
   "name": "python",
   "nbconvert_exporter": "python",
   "pygments_lexer": "ipython3",
   "version": "3.13.7"
  }
 },
 "nbformat": 4,
 "nbformat_minor": 5
}
