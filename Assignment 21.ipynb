{
 "cells": [
  {
   "cell_type": "code",
   "execution_count": null,
   "id": "d0050f06",
   "metadata": {},
   "outputs": [],
   "source": [
    "# Write two async functions (task1 & task2), each await asyncio.sleep(), and print their start/end messages.\n",
    "\n",
    "import asyncio\n",
    "async def task1():\n",
    "    print(\"Task 1 started\")\n",
    "    await asyncio.sleep(2)\n",
    "    print(\"Task 1 completed\")\n",
    "\n",
    "async def task2():\n",
    "    print(\"Task 2 started\")\n",
    "    await asyncio.sleep(1)\n",
    "    print(\"Task 2 completed\")"
   ]
  },
  {
   "cell_type": "code",
   "execution_count": null,
   "id": "51337974",
   "metadata": {},
   "outputs": [
    {
     "ename": "RuntimeError",
     "evalue": "asyncio.run() cannot be called from a running event loop",
     "output_type": "error",
     "traceback": [
      "\u001b[31m---------------------------------------------------------------------------\u001b[39m",
      "\u001b[31mRuntimeError\u001b[39m                              Traceback (most recent call last)",
      "\u001b[36mCell\u001b[39m\u001b[36m \u001b[39m\u001b[32mIn[2]\u001b[39m\u001b[32m, line 7\u001b[39m\n\u001b[32m      4\u001b[39m     \u001b[38;5;28;01mawait\u001b[39;00m task1()\n\u001b[32m      5\u001b[39m     \u001b[38;5;28;01mawait\u001b[39;00m task2()\n\u001b[32m----> \u001b[39m\u001b[32m7\u001b[39m \u001b[43masyncio\u001b[49m\u001b[43m.\u001b[49m\u001b[43mrun\u001b[49m\u001b[43m(\u001b[49m\u001b[43mrun_sequential\u001b[49m\u001b[43m(\u001b[49m\u001b[43m)\u001b[49m\u001b[43m)\u001b[49m\n",
      "\u001b[36mFile \u001b[39m\u001b[32mc:\\Users\\Kinza Amjad\\AppData\\Local\\Programs\\Python\\Python313\\Lib\\asyncio\\runners.py:191\u001b[39m, in \u001b[36mrun\u001b[39m\u001b[34m(main, debug, loop_factory)\u001b[39m\n\u001b[32m    161\u001b[39m \u001b[38;5;250m\u001b[39m\u001b[33;03m\"\"\"Execute the coroutine and return the result.\u001b[39;00m\n\u001b[32m    162\u001b[39m \n\u001b[32m    163\u001b[39m \u001b[33;03mThis function runs the passed coroutine, taking care of\u001b[39;00m\n\u001b[32m   (...)\u001b[39m\u001b[32m    187\u001b[39m \u001b[33;03m    asyncio.run(main())\u001b[39;00m\n\u001b[32m    188\u001b[39m \u001b[33;03m\"\"\"\u001b[39;00m\n\u001b[32m    189\u001b[39m \u001b[38;5;28;01mif\u001b[39;00m events._get_running_loop() \u001b[38;5;129;01mis\u001b[39;00m \u001b[38;5;129;01mnot\u001b[39;00m \u001b[38;5;28;01mNone\u001b[39;00m:\n\u001b[32m    190\u001b[39m     \u001b[38;5;66;03m# fail fast with short traceback\u001b[39;00m\n\u001b[32m--> \u001b[39m\u001b[32m191\u001b[39m     \u001b[38;5;28;01mraise\u001b[39;00m \u001b[38;5;167;01mRuntimeError\u001b[39;00m(\n\u001b[32m    192\u001b[39m         \u001b[33m\"\u001b[39m\u001b[33masyncio.run() cannot be called from a running event loop\u001b[39m\u001b[33m\"\u001b[39m)\n\u001b[32m    194\u001b[39m \u001b[38;5;28;01mwith\u001b[39;00m Runner(debug=debug, loop_factory=loop_factory) \u001b[38;5;28;01mas\u001b[39;00m runner:\n\u001b[32m    195\u001b[39m     \u001b[38;5;28;01mreturn\u001b[39;00m runner.run(main)\n",
      "\u001b[31mRuntimeError\u001b[39m: asyncio.run() cannot be called from a running event loop"
     ]
    }
   ],
   "source": [
    "# Use asyncio.run() to execute them sequentially.\n",
    "\n",
    "async def run_sequential():\n",
    "    await task1()\n",
    "    await task2()\n",
    "\n",
    "asyncio.run(run_sequential())"
   ]
  },
  {
   "cell_type": "code",
   "execution_count": null,
   "id": "54cb7a6d",
   "metadata": {},
   "outputs": [],
   "source": [
    "# Combine them with asyncio.gather() to run both concurrently and print the total execution time.\n",
    "import time\n",
    "\n",
    "async def run_concurrent():\n",
    "    start = time.time()\n",
    "    await asyncio.gather(task1(), task2())\n",
    "    end = time.time()\n",
    "    print(f\"Total execution time: {end - start:.2f} seconds\")\n",
    "\n",
    "asyncio.run(run_concurrent())"
   ]
  },
  {
   "cell_type": "code",
   "execution_count": null,
   "id": "fe5a8d69",
   "metadata": {},
   "outputs": [],
   "source": [
    "# Create a coroutine that fetches a URL using aiohttp (or simulate with sleep) and use it in asyncio.gather().\n",
    "\n",
    "async def fetch_url(url):\n",
    "    print(f\"Fetching {url}...\")\n",
    "    await asyncio.sleep(2)  # simulate network delay\n",
    "    print(f\"Done {url}\")\n",
    "    return f\"Content of {url}\"\n",
    "\n",
    "async def run_fetch():\n",
    "    results = await asyncio.gather(\n",
    "        fetch_url(\"https://example.com/1\"),\n",
    "        fetch_url(\"https://example.com/2\"),\n",
    "    )\n",
    "    print(results)\n",
    "\n",
    "asyncio.run(run_fetch())\n"
   ]
  },
  {
   "cell_type": "code",
   "execution_count": null,
   "id": "6750291d",
   "metadata": {},
   "outputs": [],
   "source": [
    "# Use asyncio.create_task() to schedule a coroutine and demonstrate that it runs after the \n",
    "# current function continues.\n",
    "\n",
    "async def background_task():\n",
    "    await asyncio.sleep(2)\n",
    "    print(\"Background task completed!\")\n",
    "\n",
    "async def run_with_create_task():\n",
    "    print(\"Main function started\")\n",
    "    task = asyncio.create_task(background_task())\n",
    "    print(\"Main function is still running...\")\n",
    "    await task  # wait for background to finish\n",
    "\n",
    "asyncio.run(run_with_create_task())"
   ]
  },
  {
   "cell_type": "code",
   "execution_count": null,
   "id": "cc05efce",
   "metadata": {},
   "outputs": [],
   "source": [
    "# Use asyncio.sleep() with different durations and print messages when each completes using asyncio.as_completed().\n",
    "\n",
    "async def sleeper(name, seconds):\n",
    "    await asyncio.sleep(seconds)\n",
    "    return f\"{name} finished after {seconds}s\"\n",
    "\n",
    "async def run_as_completed():\n",
    "    tasks = [\n",
    "        sleeper(\"Task A\", 3),\n",
    "        sleeper(\"Task B\", 1),\n",
    "        sleeper(\"Task C\", 2),\n",
    "    ]\n",
    "\n",
    "    for finished in asyncio.as_completed(tasks):\n",
    "        result = await finished\n",
    "        print(result)\n",
    "\n",
    "asyncio.run(run_as_completed())"
   ]
  },
  {
   "cell_type": "code",
   "execution_count": null,
   "id": "4ebfbeea",
   "metadata": {},
   "outputs": [],
   "source": [
    "# Implement an asyncio.Lock() that two coroutines must acquire before printing to avoid interleaved output.\n",
    "\n",
    "lock = asyncio.Lock()\n",
    "\n",
    "async def safe_print(name):\n",
    "    async with lock:\n",
    "        for i in range(3):\n",
    "            print(f\"{name} printing {i}\")\n",
    "            await asyncio.sleep(1)\n",
    "\n",
    "async def run_lock():\n",
    "    await asyncio.gather(safe_print(\"Task 1\"), safe_print(\"Task 2\"))\n",
    "\n",
    "asyncio.run(run_lock())"
   ]
  },
  {
   "cell_type": "code",
   "execution_count": null,
   "id": "35a73a90",
   "metadata": {},
   "outputs": [],
   "source": [
    "# Create a producer-consumer pattern using asyncio.Queue()—producer puts items, consumer retrieves them.\n",
    "\n",
    "async def producer(queue):\n",
    "    for i in range(5):\n",
    "        await asyncio.sleep(1)\n",
    "        await queue.put(i)\n",
    "        print(f\"Produced {i}\")\n",
    "    await queue.put(None)  # end signal\n",
    "\n",
    "async def consumer(queue):\n",
    "    while True:\n",
    "        item = await queue.get()\n",
    "        if item is None:\n",
    "            break\n",
    "        print(f\"Consumed {item}\")\n",
    "\n",
    "async def run_queue():\n",
    "    queue = asyncio.Queue()\n",
    "    await asyncio.gather(producer(queue), consumer(queue))\n",
    "\n",
    "asyncio.run(run_queue())"
   ]
  },
  {
   "cell_type": "code",
   "execution_count": null,
   "id": "0d7a5166",
   "metadata": {},
   "outputs": [],
   "source": [
    "# Use asyncio.wait_for() to cancel a coroutine if it exceeds a timeout.\n",
    "\n",
    "async def slow_task():\n",
    "    await asyncio.sleep(5)\n",
    "    return \"Finished!\"\n",
    "\n",
    "async def run_with_timeout():\n",
    "    try:\n",
    "        result = await asyncio.wait_for(slow_task(), timeout=2)\n",
    "        print(result)\n",
    "    except asyncio.TimeoutError:\n",
    "        print(\"Task timed out!\")\n",
    "\n",
    "asyncio.run(run_with_timeout())"
   ]
  },
  {
   "cell_type": "code",
   "execution_count": null,
   "id": "1eaee3b6",
   "metadata": {},
   "outputs": [],
   "source": [
    "# Demonstrate error handling in async functions using try/except inside an async function.\n",
    "\n",
    "async def faulty_task():\n",
    "    try:\n",
    "        print(\"Task started\")\n",
    "        await asyncio.sleep(1)\n",
    "        raise ValueError(\"Something went wrong!\")\n",
    "    except Exception as e:\n",
    "        print(f\"Error handled: {e}\")\n",
    "\n",
    "asyncio.run(faulty_task())"
   ]
  }
 ],
 "metadata": {
  "kernelspec": {
   "display_name": "Python 3",
   "language": "python",
   "name": "python3"
  },
  "language_info": {
   "codemirror_mode": {
    "name": "ipython",
    "version": 3
   },
   "file_extension": ".py",
   "mimetype": "text/x-python",
   "name": "python",
   "nbconvert_exporter": "python",
   "pygments_lexer": "ipython3",
   "version": "3.13.7"
  }
 },
 "nbformat": 4,
 "nbformat_minor": 5
}
