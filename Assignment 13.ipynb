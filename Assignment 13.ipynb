{
 "cells": [
  {
   "cell_type": "code",
   "execution_count": 11,
   "id": "3ddf11c2",
   "metadata": {},
   "outputs": [],
   "source": [
    "# 𝗖𝗿𝗲𝗮𝘁𝗲 𝗮 𝗳𝗶𝗹𝗲 𝗻𝗮𝗺𝗲𝗱 data.txt, 𝘄𝗿𝗶𝘁𝗲 𝟯 𝗹𝗶𝗻𝗲𝘀 𝗼𝗳 𝘁𝗲𝘅𝘁 𝗶𝗻 𝗶𝘁 𝘂𝘀𝗶𝗻𝗴 write mode, 𝘁𝗵𝗲𝗻 𝗰𝗹𝗼𝘀𝗲 𝘁𝗵𝗲 𝗳𝗶𝗹𝗲.\n",
    "file = open(\"data.txt\", \"w\")\n",
    "file.write(\"Hello python.\\n\")\n",
    "file.write(\"python is a programming language.\\n\")\n",
    "file.write(\"I am learning python.\\n\")\n",
    "file.close()"
   ]
  },
  {
   "cell_type": "code",
   "execution_count": 12,
   "metadata": {},
   "outputs": [
    {
     "name": "stdout",
     "output_type": "stream",
     "text": [
      "Hello python.\n",
      "python is a programming language.\n",
      "I am learning python.\n"
     ]
    }
   ],
   "source": [
    "# 𝗢𝗽𝗲𝗻 data.txt 𝗶𝗻 read mode, 𝗿𝗲𝗮𝗱 𝗮𝗹𝗹 𝗹𝗶𝗻𝗲𝘀, 𝗮𝗻𝗱 𝗽𝗿𝗶𝗻𝘁 𝗲𝗮𝗰𝗵 𝗹𝗶𝗻𝗲 𝗼𝗻𝗲 𝗯𝘆 𝗼𝗻𝗲.\n",
    "file = open(\"data.txt\", \"r\")\n",
    "for line in file:\n",
    "    print(line.strip()) \n",
    "file.close()\n"
   ]
  },
  {
   "cell_type": "code",
   "execution_count": 13,
   "id": "49eb1078",
   "metadata": {},
   "outputs": [
    {
     "name": "stdout",
     "output_type": "stream",
     "text": [
      "Line 0: Hello python.\n",
      "Line 1: python is a programming language.\n",
      "Line 2: I am learning python.\n"
     ]
    }
   ],
   "source": [
    "# U𝘀𝗲 readlines() 𝘁𝗼 𝗿𝗲𝗮𝗱 𝗮𝗹𝗹 𝗹𝗶𝗻𝗲𝘀 𝗮𝗻𝗱 𝗽𝗿𝗶𝗻𝘁 𝗲𝗮𝗰𝗵 𝗹𝗶𝗻𝗲 𝘄𝗶𝘁𝗵 𝗶𝘁𝘀 𝗹𝗶𝗻𝗲 𝗻𝘂𝗺𝗯𝗲𝗿.\n",
    "file = open(\"data.txt\", \"r\")\n",
    "lines = file.readlines()\n",
    "i=0\n",
    "for line in lines:\n",
    "    print(f\"Line {i}: {line.strip()}\")\n",
    "    i+=1\n",
    "file.close()\n"
   ]
  },
  {
   "cell_type": "code",
   "execution_count": 18,
   "id": "a96760ff",
   "metadata": {},
   "outputs": [
    {
     "name": "stdout",
     "output_type": "stream",
     "text": [
      "Hello python.\n",
      "python is a programming language.\n",
      "I am learning python.\n",
      "This is the new appended line.\n",
      "file handling is very easy.\n",
      "file handling is very easy.\n",
      "file handling is very easy.\n",
      "\n"
     ]
    }
   ],
   "source": [
    "# 𝗢𝗽𝗲𝗻 data.txt 𝗶𝗻 append mode, 𝗮𝗱𝗱 𝗮 𝗻𝗲𝘄 𝗹𝗶𝗻𝗲, 𝘁𝗵𝗲𝗻 𝗿𝗲𝗮𝗱 𝗮𝗻𝗱 𝗽𝗿𝗶𝗻𝘁 𝘁𝗵𝗲 𝘂𝗽𝗱𝗮𝘁𝗲𝗱 𝗰𝗼𝗻𝘁𝗲𝗻𝘁.\n",
    "\n",
    "file = open(\"data.txt\", \"a\")\n",
    "file.write(\"file handling is very easy.\\n\")\n",
    "file.close()\n",
    "\n",
    "# Read updated content\n",
    "file = open(\"data.txt\", \"r\")\n",
    "print(file.read())\n",
    "file.close()"
   ]
  },
  {
   "cell_type": "code",
   "execution_count": 16,
   "id": "8782c112",
   "metadata": {},
   "outputs": [
    {
     "name": "stdout",
     "output_type": "stream",
     "text": [
      "1 Hello python.\n",
      "2 python is a programming language.\n",
      "3 I am learning python.\n",
      "4 This is the new appended line.\n",
      "5 file handling is very easy.\n"
     ]
    }
   ],
   "source": [
    "# 𝗨𝘀𝗲 with open() 𝘀𝘁𝗮𝘁𝗲𝗺𝗲𝗻𝘁 𝘁𝗼 𝗼𝗽𝗲𝗻 𝘁𝗵𝗲 𝗳𝗶𝗹𝗲 𝗶𝗻 read mode, 𝗮𝗻𝗱 𝘂𝘀𝗲 𝗮 𝗹𝗼𝗼𝗽 𝘁𝗼 𝗽𝗿𝗶𝗻𝘁 𝗲𝗮𝗰𝗵 𝗹𝗶𝗻𝗲 𝘄𝗶𝘁𝗵 𝗻𝘂𝗺𝗯𝗲𝗿𝘀.\n",
    "\n",
    "with open(\"data.txt\", \"r\") as file:\n",
    "    num=1\n",
    "    for line in file:\n",
    "        print(num, line.strip())\n",
    "        num+=1\n"
   ]
  },
  {
   "cell_type": "code",
   "execution_count": null,
   "id": "759e2410",
   "metadata": {},
   "outputs": [
    {
     "name": "stdout",
     "output_type": "stream",
     "text": [
      "Sum = 55\n"
     ]
    }
   ],
   "source": [
    "# 𝗖𝗿𝗲𝗮𝘁𝗲 numbers.txt, 𝘄𝗿𝗶𝘁𝗲 𝗻𝘂𝗺𝗯𝗲𝗿𝘀 𝟭 𝘁𝗼 𝟭𝟬 (𝗼𝗻𝗲 𝗽𝗲𝗿 𝗹𝗶𝗻𝗲), 𝗿𝗲𝗮𝗱 𝗳𝗶𝗹𝗲 𝗮𝗻𝗱 𝗽𝗿𝗶𝗻𝘁 𝘁𝗵𝗲 𝘀𝘂𝗺 𝗼𝗳 𝗮𝗹𝗹 𝗻𝘂𝗺𝗯𝗲𝗿𝘀.\n",
    "\n",
    "file = open(\"numbers.txt\", \"w\")\n",
    "for i in range(1, 11):\n",
    "    file.write(str(i) + \"\\n\")\n",
    "file.close()\n",
    "# Read & calculate sum\n",
    "total = 0\n",
    "file = open(\"numbers.txt\", \"r\")\n",
    "for line in file:\n",
    "    total += int(line.strip())\n",
    "file.close()\n",
    "print(\"Sum =\", total)"
   ]
  },
  {
   "cell_type": "code",
   "execution_count": 20,
   "id": "4362b4c1",
   "metadata": {},
   "outputs": [],
   "source": [
    "# 𝗖𝗿𝗲𝗮𝘁𝗲 even_numbers.txt 𝗮𝗻𝗱 𝘄𝗿𝗶𝘁𝗲 𝗮𝗹𝗹 𝗲𝘃𝗲𝗻 𝗻𝘂𝗺𝗯𝗲𝗿𝘀 𝗳𝗿𝗼𝗺 𝟭 𝘁𝗼 𝟱𝟬 𝘂𝘀𝗶𝗻𝗴 𝗮 𝗹𝗼𝗼𝗽.\n",
    "\n",
    "file = open(\"even_numbers.txt\", \"w\")\n",
    "for i in range(1, 51):\n",
    "    if i % 2 == 0:\n",
    "        file.write(str(i) + \"\\n\")\n",
    "file.close()"
   ]
  },
  {
   "cell_type": "code",
   "execution_count": 22,
   "id": "52b75edd",
   "metadata": {},
   "outputs": [
    {
     "name": "stdout",
     "output_type": "stream",
     "text": [
      "Aqsa : 4 characters\n",
      "Ayesha : 6 characters\n",
      "Kiran : 5 characters\n",
      "Iqra : 4 characters\n"
     ]
    }
   ],
   "source": [
    "# 𝗖𝗿𝗲𝗮𝘁𝗲 students.txt 𝗮𝗻𝗱 𝘄𝗿𝗶𝘁𝗲 𝗻𝗮𝗺𝗲𝘀 𝗼𝗳 𝘀𝘁𝘂𝗱𝗲𝗻𝘁𝘀. 𝗥𝗲𝗮𝗱 𝗳𝗶𝗹𝗲, 𝗽𝗿𝗶𝗻𝘁 𝗻𝗮𝗺𝗲𝘀 𝘄𝗶𝘁𝗵 𝗰𝗵𝗮𝗿𝗮𝗰𝘁𝗲𝗿 𝗰𝗼𝘂𝗻𝘁 𝘂𝘀𝗶𝗻𝗴 len().\n",
    "\n",
    "file = open(\"students.txt\", \"w\")\n",
    "file.write(\"Aqsa\\nAyesha\\nKiran\\nIqra\\n\")\n",
    "file.close()\n",
    "\n",
    "# Read & print name with character count\n",
    "file = open(\"students.txt\", \"r\")\n",
    "for name in file:\n",
    "    name = name.strip()\n",
    "    print(f\"{name} : {len(name)} characters\")\n",
    "file.close()\n"
   ]
  },
  {
   "cell_type": "code",
   "execution_count": 26,
   "id": "d4aaf57d",
   "metadata": {},
   "outputs": [
    {
     "name": "stdout",
     "output_type": "stream",
     "text": [
      "Not found\n"
     ]
    }
   ],
   "source": [
    "# 𝗥𝗲𝗮𝗱 info.txt, 𝗰𝗵𝗲𝗰𝗸 𝗶𝗳 \"Python\" 𝗲𝘅𝗶𝘀𝘁𝘀. 𝗜𝗳 𝘁𝗿𝘂𝗲, 𝗽𝗿𝗶𝗻𝘁 \"Python found\", 𝗲𝗹𝘀𝗲 𝗽𝗿𝗶𝗻𝘁 \"Not found\".\n",
    "\n",
    "file = open(\"info.txt\", \"r\")\n",
    "content = file.read()\n",
    "file.close()\n",
    "\n",
    "if \"Python\" in content:\n",
    "    print(\"Python found\")\n",
    "else:\n",
    "    print(\"Not found\")\n"
   ]
  },
  {
   "cell_type": "code",
   "execution_count": 28,
   "id": "69f426c3",
   "metadata": {},
   "outputs": [],
   "source": [
    "# 𝗥𝗲𝗮𝗱 𝗮 𝗳𝗶𝗹𝗲, 𝗰𝗼𝗻𝘃𝗲𝗿𝘁 𝗮𝗹𝗹 𝘁𝗲𝘅𝘁 𝘁𝗼 uppercase, 𝘄𝗿𝗶𝘁𝗲 𝘁𝗼 output.txt.\n",
    "\n",
    "file = open(\"data.txt\", \"r\")\n",
    "text = file.read()\n",
    "file.close()\n",
    "\n",
    "file = open(\"output.txt\", \"w\")\n",
    "file.write(text.upper())\n",
    "file.close()"
   ]
  }
 ],
 "metadata": {
  "kernelspec": {
   "display_name": "Python 3",
   "language": "python",
   "name": "python3"
  },
  "language_info": {
   "codemirror_mode": {
    "name": "ipython",
    "version": 3
   },
   "file_extension": ".py",
   "mimetype": "text/x-python",
   "name": "python",
   "nbconvert_exporter": "python",
   "pygments_lexer": "ipython3",
   "version": "3.13.5"
  }
 },
 "nbformat": 4,
 "nbformat_minor": 5
}
