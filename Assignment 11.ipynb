{
 "cells": [
  {
   "cell_type": "code",
   "execution_count": 1,
   "id": "7d72acd8",
   "metadata": {},
   "outputs": [
    {
     "name": "stdout",
     "output_type": "stream",
     "text": [
      "{40, 10, 50, 20, 60, 30}\n"
     ]
    }
   ],
   "source": [
    "# 𝗖𝗿𝗲𝗮𝘁𝗲 𝗮 𝘀𝗲𝘁 {𝟭𝟬, 𝟮𝟬, 𝟯𝟬}, 𝘂𝘀𝗲 add() 𝘁𝗼 𝗮𝗱𝗱 𝟱𝟬, 𝘁𝗵𝗲𝗻 update() 𝘄𝗶𝘁𝗵 𝗮 𝗹𝗶𝘀𝘁 [𝟰𝟬, 𝟲𝟬]. 𝗣𝗿𝗶𝗻𝘁 𝘁𝗵𝗲 𝗳𝗶𝗻𝗮𝗹 𝘀𝗲𝘁.\n",
    "\n",
    "x = {10, 20, 30}\n",
    "x.add(50) \n",
    "x.update([40, 60])  \n",
    "print(x) "
   ]
  },
  {
   "cell_type": "code",
   "execution_count": null,
   "id": "964519a8",
   "metadata": {},
   "outputs": [
    {
     "name": "stdout",
     "output_type": "stream",
     "text": [
      "{'apple', 'cherry'}\n"
     ]
    }
   ],
   "source": [
    "# 𝗖𝗿𝗲𝗮𝘁𝗲 𝗮 𝘀𝗲𝘁 𝗼𝗳 𝗳𝗿𝘂𝗶𝘁𝘀 {“𝗮𝗽𝗽𝗹𝗲”, “𝗯𝗮𝗻𝗮𝗻𝗮”, “𝗰𝗵𝗲𝗿𝗿𝘆”}, 𝗿𝗲𝗺𝗼𝘃𝗲 \"𝗯𝗮𝗻𝗮𝗻𝗮\" 𝘄𝗶𝘁𝗵 remove() 𝗮𝗻𝗱 \"𝗼𝗿𝗮𝗻𝗴𝗲\" \n",
    "# 𝘄𝗶𝘁𝗵 discard(). 𝗢𝗯𝘀𝗲𝗿𝘃𝗲 𝘁𝗵𝗲 𝗱𝗶𝗳𝗳𝗲𝗿𝗲𝗻𝗰𝗲 𝗶𝗻 𝗲𝗿𝗿𝗼𝗿 𝗵𝗮𝗻𝗱𝗹𝗶𝗻𝗴.\n",
    "\n",
    "fruits = {\"apple\", \"banana\", \"cherry\"}\n",
    "fruits.remove(\"banana\")  \n",
    "# fruits.remove(\"orange\")  # ❌ This will give error (KeyError)\n",
    "fruits.discard(\"orange\")  # ✅ No error even if \"orange\" not present\n",
    "print(fruits)"
   ]
  },
  {
   "cell_type": "code",
   "execution_count": null,
   "id": "21696907",
   "metadata": {},
   "outputs": [
    {
     "name": "stdout",
     "output_type": "stream",
     "text": [
      "After pop: {'red', 'blue'}\n",
      "After clear: set()\n"
     ]
    }
   ],
   "source": [
    "# 𝗖𝗿𝗲𝗮𝘁𝗲 𝘀𝗲𝘁 {“𝗿𝗲𝗱”, “𝗴𝗿𝗲𝗲𝗻”, “𝗯𝗹𝘂𝗲”}. 𝗥𝗲𝗺𝗼𝘃𝗲 𝗼𝗻𝗲 𝗶𝘁𝗲𝗺 𝘄𝗶𝘁𝗵 pop() 𝘁𝗵𝗲𝗻 𝗲𝗺𝗽𝘁𝘆 𝘁𝗵𝗲 𝘀𝗲𝘁 𝘄𝗶𝘁𝗵 clear(). 𝗣𝗿𝗶𝗻𝘁 𝗮𝗳𝘁𝗲𝗿 𝗲𝗮𝗰𝗵.\n",
    "\n",
    "colors = {\"red\", \"green\", \"blue\"}\n",
    "colors.pop() \n",
    "print(\"After pop:\", colors)\n",
    "colors.clear()  \n",
    "print(\"After clear:\", colors)  \n"
   ]
  },
  {
   "cell_type": "code",
   "execution_count": null,
   "id": "0f04f094",
   "metadata": {},
   "outputs": [
    {
     "name": "stdout",
     "output_type": "stream",
     "text": [
      "Union: {1, 2, 3, 4, 5, 6}\n",
      "Intersection: {3, 4}\n",
      "Difference: {1, 2}\n",
      "Symmetric Difference: {1, 2, 5, 6}\n"
     ]
    }
   ],
   "source": [
    "# 𝗚𝗶𝘃𝗲𝗻: set1 = {1, 2, 3, 4}, set2 = {3, 4, 5, 6}, 𝗽𝗲𝗿𝗳𝗼𝗿𝗺 𝘁𝗵𝗲 𝗳𝗼𝗹𝗹𝗼𝘄𝗶𝗻𝗴: union(), \n",
    "# intersection(), difference(), symmetric_difference(). 𝗣𝗿𝗶𝗻𝘁 𝗿𝗲𝘀𝘂𝗹𝘁𝘀.\n",
    "\n",
    "set1 = {1, 2, 3, 4}\n",
    "set2 = {3, 4, 5, 6}\n",
    "print(\"Union:\", set1.union(set2))           \n",
    "print(\"Intersection:\", set1.intersection(set2))  \n",
    "print(\"Difference:\", set1.difference(set2))      \n",
    "print(\"Symmetric Difference:\", set1.symmetric_difference(set2))  \n"
   ]
  },
  {
   "cell_type": "code",
   "execution_count": null,
   "id": "5e4e62d2",
   "metadata": {},
   "outputs": [
    {
     "name": "stdout",
     "output_type": "stream",
     "text": [
      "Is B subset of A? True\n",
      "Is A superset of B? True\n",
      "Are A and B disjoint? False\n"
     ]
    }
   ],
   "source": [
    "# 𝗚𝗶𝘃𝗲𝗻 𝘀𝗲𝘁𝘀: A = {1, 2, 3}, B = {1, 2}. 𝗖𝗵𝗲𝗰𝗸: 𝗜𝘀 B 𝗮 𝘀𝘂𝗯𝘀𝗲𝘁 𝗼𝗳 A? 𝗜𝘀 A 𝗮 𝘀𝘂𝗽𝗲𝗿𝘀𝗲𝘁 𝗼𝗳 B? 𝗔𝗿𝗲 𝘁𝗵𝗲𝘆 𝗱𝗶𝘀𝗷𝗼𝗶𝗻𝘁?\n",
    "A = {1, 2, 3}\n",
    "B = {1, 2}\n",
    "print(\"Is B subset of A?\", B.issubset(A))\n",
    "print(\"Is A superset of B?\", A.issuperset(B)) \n",
    "print(\"Are A and B disjoint?\", A.isdisjoint(B)) \n"
   ]
  },
  {
   "cell_type": "code",
   "execution_count": null,
   "id": "38a98ad1",
   "metadata": {},
   "outputs": [
    {
     "name": "stdout",
     "output_type": "stream",
     "text": [
      "Error: 'frozenset' object has no attribute 'add'\n"
     ]
    }
   ],
   "source": [
    "# 𝗖𝗿𝗲𝗮𝘁𝗲 𝗮 frozenset(['𝗮', '𝗲', '𝗶', '𝗼', '𝘂']). 𝗧𝗿𝘆 𝘁𝗼 add() 𝗼𝗿 remove() 𝗮𝗻 𝗲𝗹𝗲𝗺𝗲𝗻𝘁. 𝗖𝗮𝘁𝗰𝗵 𝘁𝗵𝗲 𝗲𝗿𝗿𝗼𝗿 𝗮𝗻𝗱 𝗲𝘅𝗽𝗹𝗮𝗶𝗻 \n",
    "# 𝗶𝗻 𝗰𝗼𝗺𝗺𝗲𝗻𝘁 𝘄𝗵𝘆 frozenset 𝗶𝘀 𝗶𝗺𝗺𝘂𝘁𝗮𝗯𝗹𝗲.\n",
    "\n",
    "vowels = frozenset(['a', 'e', 'i', 'o', 'u'])\n",
    "\n",
    "try:\n",
    "    vowels.add('z')  # ❌ Error: can't add\n",
    "except AttributeError as e:\n",
    "    print(\"Error:\", e)\n",
    "\n",
    "# Comment: frozenset is *immutable* – can't be changed after creation"
   ]
  },
  {
   "cell_type": "code",
   "execution_count": 9,
   "id": "be904ca0",
   "metadata": {},
   "outputs": [
    {
     "name": "stdout",
     "output_type": "stream",
     "text": [
      "Union: frozenset({1, 2, 3, 4})\n",
      "Intersection: frozenset({2, 3})\n",
      "Difference: frozenset({1})\n",
      "Symmetric Difference: frozenset({1, 4})\n"
     ]
    }
   ],
   "source": [
    "# 𝗧𝘄𝗼 𝗳𝗿𝗼𝘇𝗲𝗻𝘀𝗲𝘁𝘀: fs1 = frozenset([1, 2, 3]), fs2 = frozenset([2, 3, 4]). 𝗔𝗽𝗽𝗹𝘆: union(), intersection(), \n",
    "# difference(), symmetric_difference(). 𝗣𝗿𝗶𝗻𝘁 𝗲𝗮𝗰𝗵.\n",
    "fs1 = frozenset([1, 2, 3])\n",
    "fs2 = frozenset([2, 3, 4])\n",
    "\n",
    "print(\"Union:\", fs1 | fs2)\n",
    "print(\"Intersection:\", fs1 & fs2)\n",
    "print(\"Difference:\", fs1 - fs2)\n",
    "print(\"Symmetric Difference:\", fs1 ^ fs2)"
   ]
  },
  {
   "cell_type": "code",
   "execution_count": null,
   "id": "8fc48004",
   "metadata": {},
   "outputs": [
    {
     "name": "stdout",
     "output_type": "stream",
     "text": [
      "Lahore in set? True\n",
      "Peshawar in set? False\n",
      "Disjoint? True\n"
     ]
    }
   ],
   "source": [
    "# 𝗖𝗿𝗲𝗮𝘁𝗲 𝗮 𝘀𝗲𝘁 𝗼𝗳 𝗰𝗶𝘁𝗶𝗲𝘀 {“𝗟𝗮𝗵𝗼𝗿𝗲”, “𝗞𝗮𝗿𝗮𝗰𝗵𝗶”, “𝗜𝘀𝗹𝗮𝗺𝗮𝗯𝗮𝗱”}. 𝗨𝘀𝗲 𝗮 𝗹𝗼𝗼𝗽 𝘁𝗼 𝗰𝗵𝗲𝗰𝗸 𝗺𝗲𝗺𝗯𝗲𝗿𝘀𝗵𝗶𝗽. 𝗖𝗿𝗲𝗮𝘁𝗲 𝗮 𝗻𝗲𝘄 \n",
    "# 𝘀𝗲𝘁 𝗮𝗻𝗱 𝗰𝗵𝗲𝗰𝗸 isdisjoint().\n",
    "cities = {\"Lahore\", \"Karachi\", \"Islamabad\"}\n",
    "\n",
    "for city in [\"Lahore\", \"Peshawar\"]:\n",
    "    print(city, \"in set?\", city in cities)\n",
    "\n",
    "new_set = {\"Peshawar\", \"Quetta\"}\n",
    "print(\"Disjoint?\", cities.isdisjoint(new_set))  \n"
   ]
  },
  {
   "cell_type": "code",
   "execution_count": 11,
   "id": "b30399a4",
   "metadata": {},
   "outputs": [
    {
     "name": "stdout",
     "output_type": "stream",
     "text": [
      "Union (|): {1, 2, 3, 4, 5}\n",
      "Intersection (&): {3}\n",
      "Difference (-): {1, 2}\n",
      "Symmetric (^): {1, 2, 4, 5}\n"
     ]
    }
   ],
   "source": [
    "# 𝗧𝗮𝗸𝗲: setA = {1, 2, 3}, setB = {3, 4, 5}. 𝗣𝗲𝗿𝗳𝗼𝗿𝗺: setA | setB, setA & setB, setA - setB, setA ^ setB.\n",
    "# 𝗘𝘅𝗽𝗹𝗮𝗶𝗻 𝗲𝗮𝗰𝗵 𝗼𝗽𝗲𝗿𝗮𝘁𝗼𝗿 𝗶𝗻 𝗰𝗼𝗺𝗺𝗲𝗻𝘁𝘀.\n",
    "setA = {1, 2, 3}\n",
    "setB = {3, 4, 5}\n",
    "print(\"Union (|):\", setA | setB)       \n",
    "print(\"Intersection (&):\", setA & setB) \n",
    "print(\"Difference (-):\", setA - setB)   \n",
    "print(\"Symmetric (^):\", setA ^ setB)   \n"
   ]
  },
  {
   "cell_type": "code",
   "execution_count": 14,
   "id": "5edf807e",
   "metadata": {},
   "outputs": [
    {
     "name": "stdout",
     "output_type": "stream",
     "text": [
      "Set: {'sugar', 'milk', 'bread', 'butter', 'tea'}\n",
      "Frozenset: frozenset({'sugar', 'bread', 'milk', 'butter', 'tea'})\n",
      "Error: 'frozenset' object has no attribute 'add'\n"
     ]
    }
   ],
   "source": [
    "# 𝗔𝘀𝗸 𝘂𝘀𝗲𝗿 𝗳𝗼𝗿 𝗮 𝗹𝗶𝘀𝘁 𝗼𝗳 𝗶𝘁𝗲𝗺𝘀 𝗮𝘀 𝗶𝗻𝗽𝘂𝘁. 𝗖𝗼𝗻𝘃𝗲𝗿𝘁 𝘁𝗼 𝘀𝗲𝘁 (𝘁𝗼 𝗿𝗲𝗺𝗼𝘃𝗲 𝗱𝘂𝗽𝗹𝗶𝗰𝗮𝘁𝗲𝘀), 𝘁𝗵𝗲𝗻 𝗰𝗼𝗻𝘃𝗲𝗿𝘁 𝘁𝗼 frozenset. 𝗧𝗿𝘆 𝘁𝗼 𝗺𝗼𝗱𝗶𝗳𝘆 𝗶𝘁, \n",
    "# 𝗰𝗮𝘁𝗰𝗵 𝗲𝗿𝗿𝗼𝗿, 𝗲𝘅𝗽𝗹𝗮𝗶𝗻 𝘄𝗵𝘆 frozenset 𝗶𝘀 𝗶𝗻𝗰𝗵𝗮𝗻𝗴𝗲𝗮𝗯𝗹𝗲.\n",
    "items = input(\"Enter items (comma separated): \").split(\",\")\n",
    "my_set = set(items)\n",
    "my_frozenset = frozenset(my_set)\n",
    "\n",
    "print(\"Set:\", my_set)\n",
    "print(\"Frozenset:\", my_frozenset)\n",
    "\n",
    "try:\n",
    "    my_frozenset.add(\"new\")  # ❌ Will raise error\n",
    "except AttributeError as e:\n",
    "    print(\"Error:\", e)\n",
    "\n",
    "# Comment: frozenset is immutable; we can't add/remove items."
   ]
  }
 ],
 "metadata": {
  "kernelspec": {
   "display_name": "Python 3",
   "language": "python",
   "name": "python3"
  },
  "language_info": {
   "codemirror_mode": {
    "name": "ipython",
    "version": 3
   },
   "file_extension": ".py",
   "mimetype": "text/x-python",
   "name": "python",
   "nbconvert_exporter": "python",
   "pygments_lexer": "ipython3",
   "version": "3.13.5"
  }
 },
 "nbformat": 4,
 "nbformat_minor": 5
}
