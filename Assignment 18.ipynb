{
 "cells": [
  {
   "cell_type": "markdown",
   "id": "9881432f",
   "metadata": {},
   "source": [
    " Create a class BankAccount with private attribute __balance, and methods deposit() and withdraw() to demonstrate encapsulation."
   ]
  },
  {
   "cell_type": "code",
   "execution_count": null,
   "id": "566afa91",
   "metadata": {},
   "outputs": [
    {
     "name": "stdout",
     "output_type": "stream",
     "text": [
      "Deposited: 200 New Balance: 2200\n",
      "Withdrawn: 500 Remaining Balance: 1700\n"
     ]
    }
   ],
   "source": [
    "class BankAccount:\n",
    "    def __init__(self, balance=0):\n",
    "        self.__balance = balance   # private variable\n",
    "\n",
    "    def deposit(self, amount):\n",
    "        self.__balance += amount\n",
    "        print(\"Deposited:\", amount, \"New Balance:\", self.__balance)\n",
    "\n",
    "    def withdraw(self, amount):\n",
    "        if amount <= self.__balance:\n",
    "            self.__balance -= amount\n",
    "            print(\"Withdrawn:\", amount, \"Remaining Balance:\", self.__balance)\n",
    "        else:\n",
    "            print(\"Not enough balance!\")\n",
    "\n",
    "# Test\n",
    "acc = BankAccount(2000)\n",
    "acc.deposit(200)\n",
    "acc.withdraw(500)"
   ]
  },
  {
   "cell_type": "markdown",
   "id": "4a28d725",
   "metadata": {},
   "source": [
    " Implement a subclass SavingsAccount that inherits BankAccount and adds an add_interest() method."
   ]
  },
  {
   "cell_type": "code",
   "execution_count": 45,
   "id": "17eff595",
   "metadata": {},
   "outputs": [
    {
     "name": "stdout",
     "output_type": "stream",
     "text": [
      "Deposited: 100.0 New Balance: 2100.0\n"
     ]
    }
   ],
   "source": [
    "class SavingsAccount(BankAccount):\n",
    "    def add_interest(self, rate):\n",
    "        balance= self._BankAccount__balance\n",
    "        interest = (rate * balance )/100\n",
    "        self.deposit(interest)\n",
    "\n",
    "# Test\n",
    "s= SavingsAccount(2000)\n",
    "s.add_interest(5) "
   ]
  },
  {
   "cell_type": "markdown",
   "id": "87bbe950",
   "metadata": {},
   "source": [
    " Show method resolution order (MRO) using multiple inheritance: define classes A, B, C(A, B) and print C.mro()."
   ]
  },
  {
   "cell_type": "code",
   "execution_count": 29,
   "id": "fdcaaccb",
   "metadata": {},
   "outputs": [
    {
     "name": "stdout",
     "output_type": "stream",
     "text": [
      "MRO of C: [<class '__main__.C'>, <class '__main__.A'>, <class '__main__.B'>, <class 'object'>]\n"
     ]
    }
   ],
   "source": [
    "class A: \n",
    "    pass\n",
    "class B:\n",
    "    pass\n",
    "class C(A, B): \n",
    "    pass\n",
    "\n",
    "print(\"MRO of C:\", C.mro())"
   ]
  },
  {
   "cell_type": "markdown",
   "id": "71018b53",
   "metadata": {},
   "source": [
    "Demonstrate polymorphism: create classes Cat and Dog each with method speak(), and write a function make_speak(animal) that calls the correct method."
   ]
  },
  {
   "cell_type": "code",
   "execution_count": 30,
   "id": "edee3be8",
   "metadata": {},
   "outputs": [
    {
     "name": "stdout",
     "output_type": "stream",
     "text": [
      "Meow\n",
      "Woof\n"
     ]
    }
   ],
   "source": [
    "class Cat:\n",
    "    def speak(self):\n",
    "        return \"Meow\"\n",
    "\n",
    "class Dog:\n",
    "    def speak(self):\n",
    "        return \"Woof\"\n",
    "\n",
    "def make_speak(animal):\n",
    "    print(animal.speak())\n",
    "\n",
    "make_speak(Cat())\n",
    "make_speak(Dog())"
   ]
  },
  {
   "cell_type": "markdown",
   "id": "37707b89",
   "metadata": {},
   "source": [
    " Create a class Employee with attribute salary, then subclass Manager(Employee) and override display_salary() to add a bonus."
   ]
  },
  {
   "cell_type": "code",
   "execution_count": 39,
   "id": "aec20111",
   "metadata": {},
   "outputs": [
    {
     "name": "stdout",
     "output_type": "stream",
     "text": [
      "Total Salary: 48000\n"
     ]
    }
   ],
   "source": [
    "class Employee:\n",
    "    def __init__(self, salary):\n",
    "        self.salary = salary\n",
    "\n",
    "    def display_salary(self):\n",
    "        print(\"Salary:\", self.salary)\n",
    "\n",
    "class Manager(Employee):\n",
    "    def __init__(self, salary, bonus): \n",
    "        super().__init__(salary)     # call parent constructor\n",
    "        self.bonus = bonus\n",
    "\n",
    "    def display_salary(self):   # override\n",
    "        print(\"Total Salary:\", self.salary + self.bonus)\n",
    "\n",
    "# Test\n",
    "m = Manager(40000, 8000)\n",
    "m.display_salary()"
   ]
  },
  {
   "cell_type": "markdown",
   "id": "70525e3f",
   "metadata": {},
   "source": [
    " Use the super() function inside the overridden method for proper initialization and output."
   ]
  },
  {
   "cell_type": "code",
   "execution_count": null,
   "id": "42a50a2d",
   "metadata": {},
   "outputs": [
    {
     "name": "stdout",
     "output_type": "stream",
     "text": [
      "Salary: 40000\n",
      "Bonus: 8000\n",
      "Total Salary: 48000\n"
     ]
    }
   ],
   "source": [
    "class Employee:\n",
    "    def __init__(self, salary):\n",
    "        self.salary = salary\n",
    "\n",
    "    def display_salary(self):\n",
    "        print(\"Salary:\", self.salary)\n",
    "\n",
    "class Manager(Employee):\n",
    "    def __init__(self, salary, bonus):\n",
    "        super().__init__(salary)    # call parent constructor\n",
    "        self.bonus = bonus\n",
    "\n",
    "    def display_salary(self):   # override with super()\n",
    "        super().display_salary()   \n",
    "        print(\"Bonus:\", self.bonus)\n",
    "        print(\"Total Salary:\", self.salary + self.bonus)\n",
    "\n",
    "m = Manager(40000, 8000)\n",
    "m.display_salary()"
   ]
  },
  {
   "cell_type": "markdown",
   "id": "b0a4575b",
   "metadata": {},
   "source": [
    " Implement operator overloading: define _eq_() in Employee to compare employees by salary."
   ]
  },
  {
   "cell_type": "code",
   "execution_count": 34,
   "id": "4562dcb0",
   "metadata": {},
   "outputs": [
    {
     "name": "stdout",
     "output_type": "stream",
     "text": [
      "e1 == e2: False\n",
      "e1 == e3: False\n"
     ]
    }
   ],
   "source": [
    "class Employee:\n",
    "    def __init__(self, salary):\n",
    "        self.salary = salary\n",
    "\n",
    "    def _eq_(self, other):\n",
    "        return self.salary == other.salary\n",
    "\n",
    "# Test\n",
    "e1 = Employee(40000)\n",
    "e2 = Employee(45000)\n",
    "e3 = Employee(40000)\n",
    "print(\"e1 == e2:\", e1 == e2)  \n",
    "print(\"e1 == e3:\", e1 == e3)  "
   ]
  },
  {
   "cell_type": "markdown",
   "id": "306d4724",
   "metadata": {},
   "source": [
    " Create a class Logger and use it as a decorator to log method calls on a target class."
   ]
  },
  {
   "cell_type": "code",
   "execution_count": 36,
   "id": "574fa60f",
   "metadata": {},
   "outputs": [
    {
     "name": "stdout",
     "output_type": "stream",
     "text": [
      "Function called: hello\n",
      "Hello World\n"
     ]
    }
   ],
   "source": [
    "class Logger:\n",
    "    def __init__(self, func):\n",
    "        self.func = func\n",
    "\n",
    "    def __call__(self, *args, **kwargs):\n",
    "        print(\"Function called:\", self.func.__name__)\n",
    "        return self.func(*args, **kwargs)\n",
    "\n",
    "class Test:\n",
    "    @Logger\n",
    "    def hello(self):\n",
    "        print(\"Hello World\")\n",
    "\n",
    "# Test\n",
    "t = Test()\n",
    "t.hello(t)"
   ]
  },
  {
   "cell_type": "markdown",
   "id": "736aaf69",
   "metadata": {},
   "source": [
    " Demonstrate dynamic attribute creation by using setattr() to add an attribute department to an instance of Employee."
   ]
  },
  {
   "cell_type": "code",
   "execution_count": 41,
   "id": "98167563",
   "metadata": {},
   "outputs": [
    {
     "name": "stdout",
     "output_type": "stream",
     "text": [
      "Name: Iqra\n",
      "Salary: 40000\n",
      "Department: IT\n"
     ]
    }
   ],
   "source": [
    "class Employee:\n",
    "    def __init__(self, name, salary):\n",
    "        self.name = name\n",
    "        self.salary = salary\n",
    "\n",
    "emp = Employee(\"Iqra\", 40000)\n",
    "\n",
    "# Add new attribute (department) dynamically\n",
    "setattr(emp, \"department\", \"IT\")\n",
    "\n",
    "print(\"Name:\", emp.name)\n",
    "print(\"Salary:\", emp.salary)\n",
    "print(\"Department:\", emp.department)"
   ]
  },
  {
   "cell_type": "markdown",
   "id": "eaa4a377",
   "metadata": {},
   "source": [
    " Use the built-in isinstance() and issubclass() functions in code to verify object relationships and print meaningful messages."
   ]
  },
  {
   "cell_type": "code",
   "execution_count": 42,
   "id": "dc53334c",
   "metadata": {},
   "outputs": [
    {
     "name": "stdout",
     "output_type": "stream",
     "text": [
      "True\n",
      "True\n",
      "True\n",
      "True\n",
      "False\n"
     ]
    }
   ],
   "source": [
    "class Employee:\n",
    "    pass\n",
    "\n",
    "class Manager(Employee):   \n",
    "    pass\n",
    "\n",
    "e = Employee()\n",
    "m = Manager()\n",
    "\n",
    "#  isinstance() → check if object belongs to a class\n",
    "print(isinstance(e, Employee))    \n",
    "print(isinstance(m, Manager))    \n",
    "print(isinstance(m, Employee))    \n",
    "\n",
    "# issubclass() → check if one class is child of another\n",
    "print(issubclass(Manager, Employee))  \n",
    "print(issubclass(Employee, Manager))  "
   ]
  }
 ],
 "metadata": {
  "kernelspec": {
   "display_name": "Python 3",
   "language": "python",
   "name": "python3"
  },
  "language_info": {
   "codemirror_mode": {
    "name": "ipython",
    "version": 3
   },
   "file_extension": ".py",
   "mimetype": "text/x-python",
   "name": "python",
   "nbconvert_exporter": "python",
   "pygments_lexer": "ipython3",
   "version": "3.13.7"
  }
 },
 "nbformat": 4,
 "nbformat_minor": 5
}
