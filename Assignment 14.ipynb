{
 "cells": [
  {
   "cell_type": "code",
   "execution_count": null,
   "id": "ebd51b22",
   "metadata": {},
   "outputs": [
    {
     "name": "stdout",
     "output_type": "stream",
     "text": [
      "Square root of 64 is: 8.0\n"
     ]
    }
   ],
   "source": [
    "# Use math.sqrt() to find the square root of a number.\n",
    "import math\n",
    "num = 64\n",
    "result = math.sqrt(num)\n",
    "print(\"Square root of\", num, \"is:\", result)"
   ]
  },
  {
   "cell_type": "code",
   "execution_count": 4,
   "id": "01c32fbd",
   "metadata": {},
   "outputs": [
    {
     "name": "stdout",
     "output_type": "stream",
     "text": [
      "6.283185307179586\n"
     ]
    }
   ],
   "source": [
    "# Find the value of π using math.pi and multiply it by 2.\n",
    "import math\n",
    "result=math.pi*2\n",
    "print(result)"
   ]
  },
  {
   "cell_type": "code",
   "execution_count": 5,
   "id": "b3fd5755",
   "metadata": {},
   "outputs": [
    {
     "name": "stdout",
     "output_type": "stream",
     "text": [
      "64.0\n"
     ]
    }
   ],
   "source": [
    "# Use math.pow(x, y) to find 4³.\n",
    "import math\n",
    "result=math.pow(4,3)\n",
    "print(result)"
   ]
  },
  {
   "cell_type": "code",
   "execution_count": 7,
   "id": "8044ba41",
   "metadata": {},
   "outputs": [
    {
     "name": "stdout",
     "output_type": "stream",
     "text": [
      "current date and time: 2025-07-16 10:12:46.251651\n"
     ]
    }
   ],
   "source": [
    "# Get the current date and time using datetime.datetime.now().\n",
    "import datetime\n",
    "x=datetime.datetime.now()\n",
    "print(\"current date and time:\",x)\n"
   ]
  },
  {
   "cell_type": "code",
   "execution_count": 10,
   "id": "c8803153",
   "metadata": {},
   "outputs": [
    {
     "name": "stdout",
     "output_type": "stream",
     "text": [
      "Today's date: 2025-07-16\n"
     ]
    }
   ],
   "source": [
    "# Print today's date using datetime.date.today().\n",
    "import datetime\n",
    "x=datetime.date.today()\n",
    "print(\"Today's date:\",x)"
   ]
  },
  {
   "cell_type": "code",
   "execution_count": 13,
   "id": "d2184e38",
   "metadata": {},
   "outputs": [
    {
     "name": "stdout",
     "output_type": "stream",
     "text": [
      "    August 2025\n",
      "Mo Tu We Th Fr Sa Su\n",
      "             1  2  3\n",
      " 4  5  6  7  8  9 10\n",
      "11 12 13 14 15 16 17\n",
      "18 19 20 21 22 23 24\n",
      "25 26 27 28 29 30 31\n",
      "\n"
     ]
    }
   ],
   "source": [
    "# Print the calendar for August 2025 using calendar.month().\n",
    "import calendar\n",
    "y=calendar.month(2025,8)\n",
    "print(y)"
   ]
  },
  {
   "cell_type": "code",
   "execution_count": 14,
   "id": "8b506f8b",
   "metadata": {},
   "outputs": [
    {
     "name": "stdout",
     "output_type": "stream",
     "text": [
      "Is 2024 a leap year? True\n"
     ]
    }
   ],
   "source": [
    "# Use calendar.isleap() to check if 2024 is a leap year.\n",
    "import calendar\n",
    "z=calendar.isleap(2024)\n",
    "print(\"Is 2024 a leap year?\",z)"
   ]
  },
  {
   "cell_type": "code",
   "execution_count": null,
   "id": "451ede26",
   "metadata": {},
   "outputs": [
    {
     "name": "stdout",
     "output_type": "stream",
     "text": [
      "Days between 2025-06-15 and 2025-07-09 : 24\n"
     ]
    }
   ],
   "source": [
    "# Calculate the number of days between two dates.\n",
    "import datetime\n",
    "date1 = datetime.date(2025, 6, 15)\n",
    "date2 = datetime.date(2025, 7, 9)\n",
    "\n",
    "days_difference = (date2 - date1).days\n",
    "print(\"Days between\", date1, \"and\", date2, \":\", days_difference)"
   ]
  },
  {
   "cell_type": "code",
   "execution_count": 20,
   "id": "52ccecf4",
   "metadata": {},
   "outputs": [
    {
     "name": "stdout",
     "output_type": "stream",
     "text": [
      "Date after 5 days: 2025-07-21\n"
     ]
    }
   ],
   "source": [
    "# Create a user-defined function that adds 5 days to the current date.\n",
    "def add_five_days():\n",
    "    return datetime.date.today() + datetime.timedelta(days=5)\n",
    "\n",
    "print(\"Date after 5 days:\", add_five_days())"
   ]
  },
  {
   "cell_type": "code",
   "execution_count": 26,
   "metadata": {},
   "outputs": [
    {
     "name": "stdout",
     "output_type": "stream",
     "text": [
      "Formatted Date: 16-07-2025\n"
     ]
    }
   ],
   "source": [
    "# Format the current date into DD-MM-YYYY using .strftime().\n",
    "import datetime\n",
    "formatted_date = datetime.date.today().strftime(\"%d-%m-%Y\")\n",
    "print(\"Formatted Date:\", formatted_date)"
   ]
  }
 ],
 "metadata": {
  "kernelspec": {
   "display_name": "Python 3",
   "language": "python",
   "name": "python3"
  },
  "language_info": {
   "codemirror_mode": {
    "name": "ipython",
    "version": 3
   },
   "file_extension": ".py",
   "mimetype": "text/x-python",
   "name": "python",
   "nbconvert_exporter": "python",
   "pygments_lexer": "ipython3",
   "version": "3.13.5"
  }
 },
 "nbformat": 4,
 "nbformat_minor": 5
}
