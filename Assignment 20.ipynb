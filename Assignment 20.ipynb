{
 "cells": [
  {
   "cell_type": "markdown",
   "id": "00c2f290",
   "metadata": {},
   "source": [
    " Create a User Pydantic model with fields: name (str), age (int), email (str). Validate an instance."
   ]
  },
  {
   "cell_type": "code",
   "execution_count": null,
   "id": "a83993f6",
   "metadata": {},
   "outputs": [],
   "source": []
  },
  {
   "cell_type": "markdown",
   "id": "0cee7236",
   "metadata": {},
   "source": [
    " Add a validator to ensure age is between 18 and 99; trigger error on invalid data."
   ]
  },
  {
   "cell_type": "code",
   "execution_count": null,
   "id": "92374750",
   "metadata": {},
   "outputs": [],
   "source": []
  },
  {
   "cell_type": "markdown",
   "id": "6a65d802",
   "metadata": {},
   "source": [
    " Extend User with an optional field role: str = \"member\", and display the default."
   ]
  },
  {
   "cell_type": "code",
   "execution_count": null,
   "id": "614644c7",
   "metadata": {},
   "outputs": [],
   "source": []
  },
  {
   "cell_type": "markdown",
   "id": "b8fa2d8d",
   "metadata": {},
   "source": [
    " Create a generic Box[T] class storing item: T and a method get_item()."
   ]
  },
  {
   "cell_type": "code",
   "execution_count": null,
   "id": "b536f7ad",
   "metadata": {},
   "outputs": [],
   "source": []
  },
  {
   "cell_type": "markdown",
   "id": "7eef152a",
   "metadata": {},
   "source": [
    " Instantiate Box[int] and Box[str] to demonstrate usage."
   ]
  },
  {
   "cell_type": "code",
   "execution_count": null,
   "id": "fed3000f",
   "metadata": {},
   "outputs": [],
   "source": []
  },
  {
   "cell_type": "markdown",
   "id": "3cf0ff0f",
   "metadata": {},
   "source": [
    " Use a Pydantic List[User] to validate a list of user dictionaries."
   ]
  },
  {
   "cell_type": "code",
   "execution_count": null,
   "id": "77643337",
   "metadata": {},
   "outputs": [],
   "source": []
  },
  {
   "cell_type": "markdown",
   "id": "c6d623b7",
   "metadata": {},
   "source": [
    " Define a Pydantic GenericModel Response[T] with data: T, success: bool, and test with T = User."
   ]
  },
  {
   "cell_type": "code",
   "execution_count": null,
   "id": "3d85d8a4",
   "metadata": {},
   "outputs": [],
   "source": []
  },
  {
   "cell_type": "markdown",
   "id": "4f00b49e",
   "metadata": {},
   "source": [
    " Serialize a Response[User] to JSON and print."
   ]
  },
  {
   "cell_type": "code",
   "execution_count": null,
   "id": "2a7e52f7",
   "metadata": {},
   "outputs": [],
   "source": []
  },
  {
   "cell_type": "markdown",
   "id": "1edcc160",
   "metadata": {},
   "source": [
    " Add custom validation to ensure that email contains \"@\" using Pydantic @validator."
   ]
  },
  {
   "cell_type": "code",
   "execution_count": null,
   "id": "43b69618",
   "metadata": {},
   "outputs": [],
   "source": []
  },
  {
   "cell_type": "markdown",
   "id": "e4f9c1d9",
   "metadata": {},
   "source": [
    " Use Field() to add metadata to Pydantic fields, such as description, and print the metadata via .schema()."
   ]
  }
 ],
 "metadata": {
  "language_info": {
   "name": "python"
  }
 },
 "nbformat": 4,
 "nbformat_minor": 5
}
