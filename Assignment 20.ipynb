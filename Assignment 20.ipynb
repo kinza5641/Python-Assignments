{
 "cells": [
  {
   "cell_type": "markdown",
   "id": "00c2f290",
   "metadata": {},
   "source": [
    " Create a User Pydantic model with fields: name (str), age (int), email (str). Validate an instance."
   ]
  },
  {
   "cell_type": "code",
   "execution_count": 27,
   "id": "a83993f6",
   "metadata": {},
   "outputs": [
    {
     "name": "stdout",
     "output_type": "stream",
     "text": [
      "name='Arfa' age=25 email='arfa@example.com'\n"
     ]
    }
   ],
   "source": [
    "from pydantic import BaseModel\n",
    "\n",
    "class User(BaseModel):\n",
    "    name: str\n",
    "    age: int\n",
    "    email: str\n",
    "\n",
    "user = User(name=\"Arfa\", age=25, email=\"arfa@example.com\")\n",
    "print(user)"
   ]
  },
  {
   "cell_type": "markdown",
   "id": "0cee7236",
   "metadata": {},
   "source": [
    " Add a validator to ensure age is between 18 and 99; trigger error on invalid data."
   ]
  },
  {
   "cell_type": "code",
   "execution_count": 3,
   "id": "92374750",
   "metadata": {},
   "outputs": [
    {
     "name": "stdout",
     "output_type": "stream",
     "text": [
      "name='Sara' age=30 email='sara@example.com'\n",
      "Error: 1 validation error for User\n",
      "age\n",
      "  Value error, Age must be between 18 and 99 [type=value_error, input_value=10, input_type=int]\n",
      "    For further information visit https://errors.pydantic.dev/2.11/v/value_error\n"
     ]
    },
    {
     "name": "stderr",
     "output_type": "stream",
     "text": [
      "C:\\Users\\Kinza Amjad\\AppData\\Local\\Temp\\ipykernel_8884\\3541353122.py:8: PydanticDeprecatedSince20: Pydantic V1 style `@validator` validators are deprecated. You should migrate to Pydantic V2 style `@field_validator` validators, see the migration guide for more details. Deprecated in Pydantic V2.0 to be removed in V3.0. See Pydantic V2 Migration Guide at https://errors.pydantic.dev/2.11/migration/\n",
      "  @validator(\"age\")\n"
     ]
    }
   ],
   "source": [
    "from pydantic import BaseModel, validator\n",
    "\n",
    "class User(BaseModel):\n",
    "    name: str\n",
    "    age: int\n",
    "    email: str\n",
    "\n",
    "    @validator(\"age\")\n",
    "    def check_age(cls, value):\n",
    "        if not (18 <= value <= 99):\n",
    "            raise ValueError(\"Age must be between 18 and 99\")\n",
    "        return value\n",
    "\n",
    "# Valid user\n",
    "print(User(name=\"Sara\", age=30, email=\"sara@example.com\"))\n",
    "\n",
    "# Invalid user\n",
    "try:\n",
    "    print(User(name=\"Child\", age=10, email=\"child@example.com\"))\n",
    "except Exception as e:\n",
    "    print(\"Error:\", e)"
   ]
  },
  {
   "cell_type": "markdown",
   "id": "6a65d802",
   "metadata": {},
   "source": [
    " Extend User with an optional field role: str = \"member\", and display the default."
   ]
  },
  {
   "cell_type": "code",
   "execution_count": 4,
   "id": "614644c7",
   "metadata": {},
   "outputs": [
    {
     "name": "stdout",
     "output_type": "stream",
     "text": [
      "name='Zara' age=22 email='zara@example.com' role='member'\n"
     ]
    }
   ],
   "source": [
    "from pydantic import BaseModel\n",
    "from typing import Optional\n",
    "\n",
    "class User(BaseModel):\n",
    "    name: str\n",
    "    age: int\n",
    "    email: str\n",
    "    role: Optional[str] = \"member\"\n",
    "\n",
    "print(User(name=\"Zara\", age=22, email=\"zara@example.com\"))"
   ]
  },
  {
   "cell_type": "markdown",
   "id": "b8fa2d8d",
   "metadata": {},
   "source": [
    " Create a generic Box[T] class storing item: T and a method get_item()."
   ]
  },
  {
   "cell_type": "code",
   "execution_count": null,
   "id": "b536f7ad",
   "metadata": {},
   "outputs": [],
   "source": [
    "from typing import Generic, TypeVar\n",
    "\n",
    "T = TypeVar(\"T\")\n",
    "\n",
    "class Box(Generic[T]):\n",
    "    def __init__(self, item: T):\n",
    "        self.item = item\n",
    "\n",
    "    def get_item(self) -> T:\n",
    "        return self.item"
   ]
  },
  {
   "cell_type": "markdown",
   "id": "7eef152a",
   "metadata": {},
   "source": [
    " Instantiate Box[int] and Box[str] to demonstrate usage."
   ]
  },
  {
   "cell_type": "code",
   "execution_count": 26,
   "id": "5eefd432",
   "metadata": {},
   "outputs": [
    {
     "name": "stdout",
     "output_type": "stream",
     "text": [
      "56\n",
      "Hello World\n"
     ]
    }
   ],
   "source": [
    "int_box = Box(56)\n",
    "str_box = Box[str](\"Hello World\")\n",
    "\n",
    "print(int_box.get_item())  \n",
    "print(str_box.get_item())"
   ]
  },
  {
   "cell_type": "markdown",
   "id": "3cf0ff0f",
   "metadata": {},
   "source": [
    " Use a Pydantic List[User] to validate a list of user dictionaries."
   ]
  },
  {
   "cell_type": "code",
   "execution_count": 17,
   "id": "77643337",
   "metadata": {},
   "outputs": [
    {
     "name": "stdout",
     "output_type": "stream",
     "text": [
      "users=[User(name='Arfa', age=25, email='arfa@example.com', role='member'), User(name='Sara', age=30, email='sara@example.com', role='member')]\n"
     ]
    }
   ],
   "source": [
    "from pydantic import BaseModel\n",
    "from typing import List\n",
    "\n",
    "class User(BaseModel):\n",
    "    name: str\n",
    "    age: int\n",
    "    email: str\n",
    "    role: str = \"member\"\n",
    "\n",
    "class UsersList(BaseModel):\n",
    "    users: List[User]\n",
    "\n",
    "data = {\n",
    "    \"users\": [\n",
    "        {\"name\": \"Arfa\", \"age\": 25, \"email\": \"arfa@example.com\"},\n",
    "        {\"name\": \"Sara\", \"age\": 30, \"email\": \"sara@example.com\"},\n",
    "    ]\n",
    "}\n",
    "\n",
    "users_list = UsersList(**data)\n",
    "print(users_list)"
   ]
  },
  {
   "cell_type": "markdown",
   "id": "c6d623b7",
   "metadata": {},
   "source": [
    " Define a Pydantic GenericModel Response[T] with data: T, success: bool, and test with T = User."
   ]
  },
  {
   "cell_type": "code",
   "execution_count": 19,
   "id": "3d85d8a4",
   "metadata": {},
   "outputs": [],
   "source": [
    "from pydantic.generics import GenericModel\n",
    "from typing import Generic, TypeVar\n",
    "\n",
    "T = TypeVar(\"T\")\n",
    "\n",
    "class Response(GenericModel, Generic[T]):\n",
    "    data: T\n",
    "    success: bool"
   ]
  },
  {
   "cell_type": "markdown",
   "id": "4f00b49e",
   "metadata": {},
   "source": [
    " Serialize a Response[User] to JSON and print."
   ]
  },
  {
   "cell_type": "code",
   "execution_count": 21,
   "id": "2a7e52f7",
   "metadata": {},
   "outputs": [
    {
     "name": "stdout",
     "output_type": "stream",
     "text": [
      "{\"data\":{\"name\":\"Kainat\",\"age\":28,\"email\":\"kainat@example.com\",\"role\":\"member\"},\"success\":true}\n"
     ]
    },
    {
     "name": "stderr",
     "output_type": "stream",
     "text": [
      "C:\\Users\\Kinza Amjad\\AppData\\Local\\Temp\\ipykernel_8884\\2121025465.py:4: PydanticDeprecatedSince20: The `json` method is deprecated; use `model_dump_json` instead. Deprecated in Pydantic V2.0 to be removed in V3.0. See Pydantic V2 Migration Guide at https://errors.pydantic.dev/2.11/migration/\n",
      "  print(response.json())\n"
     ]
    }
   ],
   "source": [
    "user = User(name=\"Kainat\", age=28, email=\"kainat@example.com\")\n",
    "response = Response[User](data=user, success=True)\n",
    "\n",
    "print(response.json())"
   ]
  },
  {
   "cell_type": "markdown",
   "id": "1edcc160",
   "metadata": {},
   "source": [
    " Add custom validation to ensure that email contains \"@\" using Pydantic @validator."
   ]
  },
  {
   "cell_type": "code",
   "execution_count": null,
   "id": "43b69618",
   "metadata": {},
   "outputs": [
    {
     "name": "stdout",
     "output_type": "stream",
     "text": [
      "name='Iqra' age=22 email='iqra@example.com'\n"
     ]
    },
    {
     "name": "stderr",
     "output_type": "stream",
     "text": [
      "C:\\Users\\Kinza Amjad\\AppData\\Local\\Temp\\ipykernel_8884\\66761517.py:9: PydanticDeprecatedSince20: Pydantic V1 style `@validator` validators are deprecated. You should migrate to Pydantic V2 style `@field_validator` validators, see the migration guide for more details. Deprecated in Pydantic V2.0 to be removed in V3.0. See Pydantic V2 Migration Guide at https://errors.pydantic.dev/2.11/migration/\n",
      "  @validator(\"email\")\n"
     ]
    }
   ],
   "source": [
    "from pydantic import BaseModel, validator\n",
    "\n",
    "class UserEmail(BaseModel):\n",
    "    name: str\n",
    "    age: int\n",
    "    email: str\n",
    "\n",
    "    # custom email validation\n",
    "    @validator(\"email\")\n",
    "    def check_email(cls, value):\n",
    "        if \"@\" not in value:\n",
    "            raise ValueError(\"Invalid email → must contain '@'\")\n",
    "        return value\n",
    "\n",
    "# valid email\n",
    "u1 = UserEmail(name=\"Iqra\", age=22, email=\"iqra@example.com\")\n",
    "print(u1)\n",
    "\n",
    "# invalid email → error\n",
    "# u2 = UserEmail(name=\"Sara\", age=25, email=\"saraexample.com\")\n",
    "# print(u2)"
   ]
  },
  {
   "cell_type": "markdown",
   "id": "e4f9c1d9",
   "metadata": {},
   "source": [
    " Use Field() to add metadata to Pydantic fields, such as description, and print the metadata via .schema()."
   ]
  },
  {
   "cell_type": "code",
   "execution_count": null,
   "id": "e1fc1feb",
   "metadata": {},
   "outputs": [
    {
     "name": "stdout",
     "output_type": "stream",
     "text": [
      "name='Hina' age=28 email='hina@example.com'\n",
      "{'properties': {'name': {'description': 'Full name of the user', 'title': 'Name', 'type': 'string'}, 'age': {'description': 'Age must be a positive number', 'exclusiveMinimum': 0, 'title': 'Age', 'type': 'integer'}, 'email': {'description': \"Valid email address with '@'\", 'title': 'Email', 'type': 'string'}}, 'required': ['name', 'age', 'email'], 'title': 'metadata', 'type': 'object'}\n"
     ]
    },
    {
     "name": "stderr",
     "output_type": "stream",
     "text": [
      "C:\\Users\\Kinza Amjad\\AppData\\Local\\Temp\\ipykernel_8884\\1571964035.py:13: PydanticDeprecatedSince20: The `schema` method is deprecated; use `model_json_schema` instead. Deprecated in Pydantic V2.0 to be removed in V3.0. See Pydantic V2 Migration Guide at https://errors.pydantic.dev/2.11/migration/\n",
      "  print(metadata.schema())\n"
     ]
    }
   ],
   "source": [
    "from pydantic import BaseModel, Field\n",
    "\n",
    "class metadata(BaseModel):\n",
    "    name: str = Field(..., description=\"Full name of the user\")\n",
    "    age: int = Field(..., gt=0, description=\"Age must be a positive number\")\n",
    "    email: str = Field(..., description=\"Valid email address with '@'\")\n",
    "\n",
    "user = metadata(name=\"Hina\", age=28, email=\"hina@example.com\")\n",
    "print(user)\n",
    "\n",
    "# print schema metadata\n",
    "print(metadata.schema())"
   ]
  }
 ],
 "metadata": {
  "kernelspec": {
   "display_name": "Python 3",
   "language": "python",
   "name": "python3"
  },
  "language_info": {
   "codemirror_mode": {
    "name": "ipython",
    "version": 3
   },
   "file_extension": ".py",
   "mimetype": "text/x-python",
   "name": "python",
   "nbconvert_exporter": "python",
   "pygments_lexer": "ipython3",
   "version": "3.13.7"
  }
 },
 "nbformat": 4,
 "nbformat_minor": 5
}
