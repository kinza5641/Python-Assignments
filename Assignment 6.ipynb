{
 "cells": [
  {
   "cell_type": "markdown",
   "id": "2a67cc99",
   "metadata": {},
   "source": [
    "𝗣𝗿𝗶𝗻𝘁 𝗻𝘂𝗺𝗯𝗲𝗿𝘀 𝗳𝗿𝗼𝗺 𝟭 𝘁𝗼 𝟮𝟬 𝘂𝘀𝗶𝗻𝗴 𝗮 𝘄𝗵𝗶𝗹𝗲 𝗹𝗼𝗼𝗽۔"
   ]
  },
  {
   "cell_type": "code",
   "execution_count": 18,
   "id": "94f47b73",
   "metadata": {},
   "outputs": [
    {
     "name": "stdout",
     "output_type": "stream",
     "text": [
      "1\n",
      "2\n",
      "3\n",
      "4\n",
      "5\n",
      "6\n",
      "7\n",
      "8\n",
      "9\n",
      "10\n",
      "11\n",
      "12\n",
      "13\n",
      "14\n",
      "15\n",
      "16\n",
      "17\n",
      "18\n",
      "19\n",
      "20\n"
     ]
    }
   ],
   "source": [
    "\n",
    "i=1\n",
    "while i<=20:\n",
    "     print(i)\n",
    "     i+=1\n",
    "    "
   ]
  },
  {
   "cell_type": "markdown",
   "id": "a726ced4",
   "metadata": {},
   "source": [
    "print every 3rd number from 3 to 30."
   ]
  },
  {
   "cell_type": "code",
   "execution_count": 19,
   "id": "de19679c",
   "metadata": {},
   "outputs": [
    {
     "name": "stdout",
     "output_type": "stream",
     "text": [
      "3\n",
      "6\n",
      "9\n",
      "12\n",
      "15\n",
      "18\n",
      "21\n",
      "24\n",
      "27\n",
      "30\n"
     ]
    }
   ],
   "source": [
    "for i in range (3,31,3):\n",
    "    print(i)"
   ]
  },
  {
   "cell_type": "markdown",
   "id": "448276b7",
   "metadata": {},
   "source": [
    " 𝗣𝗿𝗶𝗻𝘁 𝘁𝗵𝗲 𝘀𝘂𝗺 𝗼𝗳 𝗲𝘃𝗲𝗻 𝗻𝘂𝗺𝗯𝗲𝗿𝘀 𝗳𝗿𝗼𝗺 𝟮 𝘁𝗼 𝟮𝟬."
   ]
  },
  {
   "cell_type": "code",
   "execution_count": 20,
   "id": "fc71d8ba",
   "metadata": {},
   "outputs": [
    {
     "name": "stdout",
     "output_type": "stream",
     "text": [
      "sum: 110\n"
     ]
    }
   ],
   "source": [
    "total=0\n",
    "for i in range(2,21,2):\n",
    "    total+=i\n",
    "print(\"sum:\",total)    "
   ]
  },
  {
   "cell_type": "markdown",
   "id": "875afa3e",
   "metadata": {},
   "source": [
    " 𝗣𝗿𝗶𝗻𝘁 𝘁𝗵𝗲 𝗽𝗿𝗼𝗱𝘂𝗰𝘁 𝗼𝗳 𝗼𝗱𝗱 𝗻𝘂𝗺𝗯𝗲𝗿𝘀 𝗳𝗿𝗼𝗺 𝟭 𝘁𝗼 𝟵۔\n"
   ]
  },
  {
   "cell_type": "code",
   "execution_count": 21,
   "id": "c6e65f92",
   "metadata": {},
   "outputs": [
    {
     "name": "stdout",
     "output_type": "stream",
     "text": [
      "product: 945\n"
     ]
    }
   ],
   "source": [
    "product=1\n",
    "for i in range(1,10,2):\n",
    "    product*=i\n",
    "print(\"product:\",product)    "
   ]
  },
  {
   "cell_type": "markdown",
   "id": "ca900ec9",
   "metadata": {},
   "source": [
    "𝗖𝗿𝗲𝗮𝘁𝗲 𝗮 𝗹𝗶𝘀𝘁 𝗼𝗳 𝟱 𝗻𝗮𝗺𝗲𝘀 𝗮𝗻𝗱 𝗽𝗿𝗶𝗻𝘁 𝗲𝗮𝗰𝗵 𝗻𝗮𝗺𝗲 𝗼𝗻 𝗮 𝗻𝗲𝘄 𝗹𝗶𝗻𝗲۔\n"
   ]
  },
  {
   "cell_type": "code",
   "execution_count": 22,
   "id": "30edb756",
   "metadata": {},
   "outputs": [
    {
     "name": "stdout",
     "output_type": "stream",
     "text": [
      "kiran\n",
      "esha\n",
      "ayesha\n",
      "sania\n",
      "zoreen\n"
     ]
    }
   ],
   "source": [
    "names=[\"kiran\",\"esha\",\"ayesha\",\"sania\",\"zoreen\"]\n",
    "for name in names:\n",
    "    print(name)"
   ]
  },
  {
   "cell_type": "markdown",
   "id": "afbf3e25",
   "metadata": {},
   "source": [
    " 𝗖𝗼𝘂𝗻𝘁 𝗵𝗼𝘄 𝗺𝗮𝗻𝘆 𝗹𝗲𝘁𝘁𝗲𝗿𝘀 '𝗮' 𝗮𝗿𝗲 𝗶𝗻 𝘁𝗵𝗲 𝘄𝗼𝗿𝗱 \"𝗯𝗮𝗻𝗮𝗻𝗮\"۔\n"
   ]
  },
  {
   "cell_type": "code",
   "execution_count": 2,
   "id": "015d21d7",
   "metadata": {},
   "outputs": [
    {
     "name": "stdout",
     "output_type": "stream",
     "text": [
      "count of a: 3\n"
     ]
    }
   ],
   "source": [
    "word=\"banana\"\n",
    "count=word.count(\"a\")\n",
    "print(\"count of a:\",count)\n"
   ]
  },
  {
   "cell_type": "markdown",
   "id": "701254a3",
   "metadata": {},
   "source": [
    " 𝗣𝗿𝗶𝗻𝘁 𝗼𝗻𝗹𝘆 𝘁𝗵𝗲 𝗻𝗲𝗴𝗮𝘁𝗶𝘃𝗲 𝗻𝘂𝗺𝗯𝗲𝗿𝘀 𝗳𝗿𝗼𝗺 𝗮 𝗴𝗶𝘃𝗲𝗻 𝗹𝗶𝘀𝘁۔"
   ]
  },
  {
   "cell_type": "code",
   "execution_count": 24,
   "id": "a977a813",
   "metadata": {},
   "outputs": [
    {
     "name": "stdout",
     "output_type": "stream",
     "text": [
      "-5\n",
      "-6\n",
      "-3\n",
      "-1\n"
     ]
    }
   ],
   "source": [
    "numbers=[4,-5,5,2,-6,-3,-1,5]\n",
    "for n in numbers:\n",
    "    if n<0:\n",
    "        print(n)"
   ]
  },
  {
   "cell_type": "markdown",
   "id": "7f28b706",
   "metadata": {},
   "source": [
    " 𝗣𝗿𝗶𝗻𝘁 𝗼𝗻𝗹𝘆 𝘁𝗵𝗲 𝗻𝘂𝗺𝗯𝗲𝗿𝘀 𝗲𝗻𝗱𝗶𝗻𝗴 𝗶𝗻 𝟱 𝗳𝗿𝗼𝗺 𝟭 𝘁𝗼 𝟱𝟬۔"
   ]
  },
  {
   "cell_type": "code",
   "execution_count": 25,
   "id": "72875690",
   "metadata": {},
   "outputs": [
    {
     "name": "stdout",
     "output_type": "stream",
     "text": [
      "5\n",
      "15\n",
      "25\n",
      "35\n",
      "45\n"
     ]
    }
   ],
   "source": [
    "for i in range(1,51):\n",
    "    if i%10==5:\n",
    "        print(i)"
   ]
  },
  {
   "cell_type": "markdown",
   "id": "a2b1c0d1",
   "metadata": {},
   "source": [
    " 𝗣𝗿𝗶𝗻𝘁 𝘁𝗵𝗲 𝗹𝗲𝗻𝗴𝘁𝗵 𝗼𝗳 𝗲𝗮𝗰𝗵 𝘄𝗼𝗿𝗱 𝗶𝗻 𝘁𝗵𝗲 𝗹𝗶𝘀𝘁 [\"cat\", \"elephant\", \"bat\"]"
   ]
  },
  {
   "cell_type": "code",
   "execution_count": 26,
   "id": "4f505d3b",
   "metadata": {},
   "outputs": [
    {
     "name": "stdout",
     "output_type": "stream",
     "text": [
      "3\n",
      "8\n",
      "3\n"
     ]
    }
   ],
   "source": [
    "items_list=[\"cat\",\"elephant\",\"bat\"]\n",
    "for i in items_list:\n",
    "    print(len(i))"
   ]
  },
  {
   "cell_type": "markdown",
   "id": "09ab61ce",
   "metadata": {},
   "source": [
    "𝗧𝗮𝗸𝗲 𝟯 𝗻𝘂𝗺𝗯𝗲𝗿𝘀 𝗮𝘀 𝗶𝗻𝗽𝘂𝘁 𝗳𝗿𝗼𝗺 𝘁𝗵𝗲 𝘂𝘀𝗲𝗿 𝗮𝗻𝗱 𝗽𝗿𝗶𝗻𝘁 𝘁𝗵𝗲𝗶𝗿 𝗮𝘃𝗲𝗿𝗮𝗴𝗲"
   ]
  },
  {
   "cell_type": "code",
   "execution_count": 27,
   "id": "63119139",
   "metadata": {},
   "outputs": [
    {
     "name": "stdout",
     "output_type": "stream",
     "text": [
      "average: 24.633333333333336\n"
     ]
    }
   ],
   "source": [
    "a=float(input(\"enter first number:\"))\n",
    "b=float(input(\"enter second number:\"))\n",
    "c=float(input(\"enter third number:\"))\n",
    "d=(a+b+c)/3\n",
    "print(\"average:\",d)"
   ]
  },
  {
   "cell_type": "markdown",
   "id": "a948ce15",
   "metadata": {},
   "source": [
    " 𝗣𝗿𝗶𝗻𝘁 𝘁𝗵𝗲 𝘁𝗮𝗯𝗹𝗲 𝗼𝗳 𝟱 𝗶𝗻 𝗿𝗲𝘃𝗲𝗿𝘀𝗲 (𝗳𝗿𝗼𝗺 𝟱×𝟭𝟬 𝘁𝗼 𝟱×𝟭)"
   ]
  },
  {
   "cell_type": "code",
   "execution_count": 28,
   "id": "f6c1eafa",
   "metadata": {},
   "outputs": [
    {
     "name": "stdout",
     "output_type": "stream",
     "text": [
      "5* 10 = 50\n",
      "5* 9 = 45\n",
      "5* 8 = 40\n",
      "5* 7 = 35\n",
      "5* 6 = 30\n",
      "5* 5 = 25\n",
      "5* 4 = 20\n",
      "5* 3 = 15\n",
      "5* 2 = 10\n",
      "5* 1 = 5\n"
     ]
    }
   ],
   "source": [
    "for i in range(10,0,-1):\n",
    "       print(\"5*\",i,\"=\",5*i)"
   ]
  },
  {
   "cell_type": "markdown",
   "id": "f32b6dcb",
   "metadata": {},
   "source": [
    "𝗨𝘀𝗲 𝗮 𝗳𝗼𝗿 𝗹𝗼𝗼𝗽 𝘁𝗼 𝗽𝗿𝗶𝗻𝘁 𝗮𝗹𝗹 𝗰𝗵𝗮𝗿𝗮𝗰𝘁𝗲𝗿𝘀 𝗶𝗻 \"𝗣𝘆𝘁𝗵𝗼𝗻 𝗜𝘀 𝗙𝘂𝗻\"."
   ]
  },
  {
   "cell_type": "code",
   "execution_count": 29,
   "id": "42ea64d7",
   "metadata": {},
   "outputs": [
    {
     "name": "stdout",
     "output_type": "stream",
     "text": [
      "a\n",
      "l\n",
      "p\n",
      "h\n",
      "a\n",
      "b\n",
      "e\n",
      "t\n"
     ]
    }
   ],
   "source": [
    "Word=\"python is fun\"\n",
    "for ch in word:\n",
    "    print(ch)\n",
    "    "
   ]
  },
  {
   "cell_type": "markdown",
   "id": "bb3ca2bb",
   "metadata": {},
   "source": [
    "𝗖𝗿𝗲𝗮𝘁𝗲 𝗮 𝗹𝗶𝘀𝘁 𝗼𝗳 𝗻𝘂𝗺𝗯𝗲𝗿𝘀 𝗮𝗻𝗱 𝗽𝗿𝗶𝗻𝘁 𝗲𝘃𝗲𝗿𝘆 𝘀𝗲𝗰𝗼𝗻𝗱 𝗶𝘁𝗲𝗺۔"
   ]
  },
  {
   "cell_type": "code",
   "execution_count": 30,
   "id": "e17093e5",
   "metadata": {},
   "outputs": [
    {
     "name": "stdout",
     "output_type": "stream",
     "text": [
      "2\n",
      "4\n",
      "6\n"
     ]
    }
   ],
   "source": [
    "numbers=[1,2,3,4,5,6]\n",
    "for i in range(1,len(numbers),2):\n",
    "    print(numbers[i])\n",
    "    "
   ]
  },
  {
   "cell_type": "markdown",
   "id": "3c57f2aa",
   "metadata": {},
   "source": [
    "\n",
    " 𝗧𝗮𝗸𝗲 𝗮 𝘄𝗼𝗿𝗱 𝗳𝗿𝗼𝗺 𝘁𝗵𝗲 𝘂𝘀𝗲𝗿 𝗮𝗻𝗱 𝗰𝗼𝘂𝗻𝘁 𝗵𝗼𝘄 𝗺𝗮𝗻𝘆 𝗰𝗼𝗻𝘀𝗼𝗻𝗮𝗻𝘁𝘀 𝗶𝘁 𝗵𝗮𝘀۔"
   ]
  },
  {
   "cell_type": "code",
   "execution_count": 6,
   "id": "d7f21e90",
   "metadata": {},
   "outputs": [
    {
     "name": "stdout",
     "output_type": "stream",
     "text": [
      "user input :chair\n",
      "consonents: 3\n"
     ]
    }
   ],
   "source": [
    "word=input(\"enter a word\")\n",
    "print(f\"user input :{word}\")\n",
    "count=0\n",
    "for letter in word:\n",
    "    if letter.lower() not in \"aeiou\" and letter.isalpha ():\n",
    "        count+=1\n",
    "print(\"consonents:\",count)"
   ]
  },
  {
   "cell_type": "markdown",
   "id": "ed9c7c9a",
   "metadata": {},
   "source": [
    " 𝗣𝗿𝗶𝗻𝘁 𝘁𝗵𝗲 𝗰𝘂𝗯𝗲𝘀 𝗼𝗳 𝗻𝘂𝗺𝗯𝗲𝗿𝘀 𝗳𝗿𝗼𝗺 𝟭 𝘁𝗼 𝟱۔"
   ]
  },
  {
   "cell_type": "code",
   "execution_count": 31,
   "id": "b4401ad5",
   "metadata": {},
   "outputs": [
    {
     "name": "stdout",
     "output_type": "stream",
     "text": [
      "1\n",
      "8\n",
      "27\n",
      "64\n",
      "125\n"
     ]
    }
   ],
   "source": [
    "for i in range(1,6):\n",
    "    print(i**3)"
   ]
  },
  {
   "cell_type": "markdown",
   "id": "66f314b5",
   "metadata": {},
   "source": [
    " 𝗧𝗮𝗸𝗲 𝗮 𝗹𝗶𝘀𝘁 𝗼𝗳 𝘄𝗼𝗿𝗱𝘀 𝗮𝗻𝗱 𝗽𝗿𝗶𝗻𝘁 𝘁𝗵𝗼𝘀𝗲 𝘁𝗵𝗮𝘁 𝘀𝘁𝗮𝗿𝘁 𝘄𝗶𝘁𝗵 '𝗮'"
   ]
  },
  {
   "cell_type": "code",
   "execution_count": 32,
   "id": "b81fb22e",
   "metadata": {},
   "outputs": [
    {
     "name": "stdout",
     "output_type": "stream",
     "text": [
      "apple\n",
      "appricot\n"
     ]
    }
   ],
   "source": [
    "words=[\"apple\",\"banana\",\"appricot\"]\n",
    "for i in words:\n",
    "    if i.startswith(\"a\"):\n",
    "        print(i)\n"
   ]
  },
  {
   "cell_type": "markdown",
   "id": "f45084ad",
   "metadata": {},
   "source": [
    " 𝗨𝘀𝗲 𝗮 𝗹𝗼𝗼𝗽 𝘁𝗼 𝗽𝗿𝗶𝗻𝘁 𝗻𝘂𝗺𝗯𝗲𝗿𝘀 𝗯𝗲𝘁𝘄𝗲𝗲𝗻 𝟭𝟬𝟬 𝗮𝗻𝗱 𝟭𝟭𝟬 (𝗲𝘅𝗰𝗹𝘂𝗱𝗶𝗻𝗴 𝟭𝟬𝟱)."
   ]
  },
  {
   "cell_type": "code",
   "execution_count": 33,
   "id": "3d603ff9",
   "metadata": {},
   "outputs": [
    {
     "name": "stdout",
     "output_type": "stream",
     "text": [
      "100\n",
      "101\n",
      "102\n",
      "103\n",
      "104\n",
      "106\n",
      "107\n",
      "108\n",
      "109\n",
      "110\n"
     ]
    }
   ],
   "source": [
    "for i in range(100,111):\n",
    "    if i!=105:\n",
    "        print(i)"
   ]
  },
  {
   "cell_type": "markdown",
   "id": "2e958af2",
   "metadata": {},
   "source": [
    "\n",
    "𝗣𝗿𝗶𝗻𝘁 𝘁𝗵𝗲 𝗳𝗶𝗿𝘀𝘁 𝟱 𝗽𝗼𝘀𝗶𝘁𝗶𝘃𝗲 𝗺𝘂𝗹𝘁𝗶𝗽𝗹𝗲𝘀 𝗼𝗳 𝟰."
   ]
  },
  {
   "cell_type": "code",
   "execution_count": 34,
   "id": "6f2052d2",
   "metadata": {},
   "outputs": [
    {
     "name": "stdout",
     "output_type": "stream",
     "text": [
      "1\n",
      "16\n",
      "81\n",
      "256\n",
      "625\n"
     ]
    }
   ],
   "source": [
    "for i in range(1,6):\n",
    "    print(i**4)"
   ]
  },
  {
   "cell_type": "markdown",
   "id": "ae1ccb5a",
   "metadata": {},
   "source": [
    " 𝗣𝗿𝗶𝗻𝘁 𝗲𝗮𝗰𝗵 𝘄𝗼𝗿𝗱 𝗶𝗻 𝘁𝗵𝗲 𝘀𝗲𝗻𝘁𝗲𝗻𝗰𝗲 \"𝗖𝗼𝗱𝗶𝗻𝗴 𝗶𝘀 𝗲𝗮𝘀𝘆\" 𝗼𝗻 𝗮 𝗻𝗲𝘄 𝗹𝗶𝗻𝗲۔"
   ]
  },
  {
   "cell_type": "code",
   "execution_count": 7,
   "id": "a9b904d6",
   "metadata": {},
   "outputs": [
    {
     "name": "stdout",
     "output_type": "stream",
     "text": [
      "coding\n",
      "is\n",
      "easy\n"
     ]
    }
   ],
   "source": [
    "sentence=\"coding is easy\"\n",
    "words=sentence.split()\n",
    "for word in words:\n",
    "    print(word)"
   ]
  },
  {
   "cell_type": "markdown",
   "id": "9d1c0665",
   "metadata": {},
   "source": [
    "\n",
    "𝗖𝗿𝗲𝗮𝘁𝗲 𝗮 𝗻𝘂𝗺𝗯𝗲𝗿 𝗹𝗶𝘀𝘁 𝗮𝗻𝗱 𝗽𝗿𝗶𝗻𝘁 𝗼𝗻𝗹𝘆 𝗲𝘃𝗲𝗻 𝗻𝘂𝗺𝗯𝗲𝗿𝘀 𝘂𝘀𝗶𝗻𝗴 𝗰𝗼𝗻𝗱𝗶𝘁𝗶𝗼𝗻𝘀 𝗶𝗻 𝗹𝗼𝗼𝗽."
   ]
  },
  {
   "cell_type": "code",
   "execution_count": 8,
   "id": "fa8c8c48",
   "metadata": {},
   "outputs": [
    {
     "name": "stdout",
     "output_type": "stream",
     "text": [
      "4\n",
      "6\n",
      "12\n",
      "8\n"
     ]
    }
   ],
   "source": [
    "numbers=[1,4,6,9,12,8]\n",
    "for x in numbers:\n",
    "    if x%2==0:\n",
    "       print(x)\n"
   ]
  }
 ],
 "metadata": {
  "kernelspec": {
   "display_name": "Python 3",
   "language": "python",
   "name": "python3"
  },
  "language_info": {
   "codemirror_mode": {
    "name": "ipython",
    "version": 3
   },
   "file_extension": ".py",
   "mimetype": "text/x-python",
   "name": "python",
   "nbconvert_exporter": "python",
   "pygments_lexer": "ipython3",
   "version": "3.13.5"
  }
 },
 "nbformat": 4,
 "nbformat_minor": 5
}
