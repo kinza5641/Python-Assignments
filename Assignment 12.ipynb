{
 "cells": [
  {
   "cell_type": "code",
   "execution_count": null,
   "id": "f2e3e02d",
   "metadata": {},
   "outputs": [
    {
     "name": "stdout",
     "output_type": "stream",
     "text": [
      "Factorial of 5: 120\n",
      "Double of 4: 8\n"
     ]
    }
   ],
   "source": [
    "# I𝗺𝗽𝗼𝗿𝘁 math 𝗺𝗼𝗱𝘂𝗹𝗲 𝗮𝗻𝗱 𝘂𝘀𝗲 math.factorial() 𝘁𝗼 𝗳𝗶𝗻𝗱 𝗳𝗮𝗰𝘁𝗼𝗿𝗶𝗮𝗹. 𝗖𝗿𝗲𝗮𝘁𝗲 𝗮 𝗳𝘂𝗻𝗰𝘁𝗶𝗼𝗻 double(n) 𝘁𝗼 𝗿𝗲𝘁𝘂𝗿𝗻 𝘁𝘄𝗶𝗰𝗲 𝘁𝗵𝗲 𝗶𝗻𝗽𝘂𝘁.\n",
    "# 𝗖𝗮𝗹𝗹 𝗯𝗼𝘁𝗵 𝗳𝘂𝗻𝗰𝘁𝗶𝗼𝗻𝘀.\n",
    "\n",
    "import math\n",
    "# factorial using math module\n",
    "print(\"Factorial of 5:\", math.factorial(5))\n",
    "# function to double a number\n",
    "def double(n):\n",
    "    return n * 2\n",
    "print(\"Double of 4:\", double(4))\n"
   ]
  },
  {
   "cell_type": "code",
   "execution_count": null,
   "id": "ee7318de",
   "metadata": {},
   "outputs": [
    {
     "name": "stdout",
     "output_type": "stream",
     "text": [
      "Random item: apple\n",
      "Hello, Ali\n",
      "List length: 3\n"
     ]
    }
   ],
   "source": [
    "# 𝗜𝗺𝗽𝗼𝗿𝘁 random 𝗮𝗻𝗱 𝘂𝘀𝗲 random.choice() 𝗼𝗻 𝗮 𝗹𝗶𝘀𝘁. 𝗗𝗲𝗳𝗶𝗻𝗲 greet(name) 𝘁𝗼 𝗽𝗿𝗶𝗻𝘁 𝗮 𝗴𝗿𝗲𝗲𝘁𝗶𝗻𝗴. \n",
    "# 𝗨𝘀𝗲 len() 𝘁𝗼 𝗽𝗿𝗶𝗻𝘁 𝘁𝗵𝗲 𝗹𝗶𝘀𝘁 𝗹𝗲𝗻𝗴𝘁𝗵.\n",
    "import random\n",
    "items = ['apple', 'banana', 'mango']\n",
    "print(\"Random item:\", random.choice(items))\n",
    "def greet(name):\n",
    "    print(\"Hello,\", name)\n",
    "greet(\"Ali\")\n",
    "print(\"List length:\", len(items))\n"
   ]
  },
  {
   "cell_type": "code",
   "execution_count": null,
   "id": "2fde0084",
   "metadata": {},
   "outputs": [
    {
     "name": "stdout",
     "output_type": "stream",
     "text": [
      "Sum: 60\n",
      "Mean: 20\n",
      "Is 4 even? True\n"
     ]
    }
   ],
   "source": [
    "# 𝗨𝘀𝗲 sum() 𝘁𝗼 𝗮𝗱𝗱 𝗹𝗶𝘀𝘁 𝗲𝗹𝗲𝗺𝗲𝗻𝘁𝘀. 𝗜𝗺𝗽𝗼𝗿𝘁 statistics 𝗮𝗻𝗱 𝘂𝘀𝗲 mean(). 𝗖𝗿𝗲𝗮𝘁𝗲 is_even(num) 𝘁𝗼 𝗰𝗵𝗲𝗰𝗸 𝗲𝘃𝗲𝗻 𝗻𝘂𝗺𝗯𝗲𝗿𝘀.\n",
    "import statistics\n",
    "nums = [10, 20, 30]\n",
    "print(\"Sum:\", sum(nums))\n",
    "print(\"Mean:\", statistics.mean(nums))\n",
    "def is_even(num):\n",
    "    return num % 2 == 0\n",
    "print(\"Is 4 even?\", is_even(4))"
   ]
  },
  {
   "cell_type": "code",
   "execution_count": 13,
   "id": "b9d62ffb",
   "metadata": {},
   "outputs": [
    {
     "name": "stdout",
     "output_type": "stream",
     "text": [
      "Current Date & Time: 2025-07-10 09:00:14.791173\n",
      "Hello AI!\n",
      "Type of x: <class 'int'>\n"
     ]
    }
   ],
   "source": [
    "# 𝗜𝗺𝗽𝗼𝗿𝘁 datetime 𝗮𝗻𝗱 𝗽𝗿𝗶𝗻𝘁 𝗰𝘂𝗿𝗿𝗲𝗻𝘁 𝗱𝗮𝘁𝗲 & 𝘁𝗶𝗺𝗲 𝘂𝘀𝗶𝗻𝗴 datetime.now(). 𝗖𝗿𝗲𝗮𝘁𝗲 say_hello() 𝗳𝘂𝗻𝗰𝘁𝗶𝗼𝗻.\n",
    "# 𝗖𝗵𝗲𝗰𝗸 𝗮 𝘃𝗮𝗿𝗶𝗮𝗯𝗹𝗲’𝘀 𝘁𝘆𝗽𝗲 𝘄𝗶𝘁𝗵 type().\n",
    "import datetime\n",
    "now = datetime.datetime.now()\n",
    "print(\"Current Date & Time:\", now)\n",
    "def say_hello():\n",
    "    print(\"Hello AI!\")\n",
    "say_hello()\n",
    "x = 10\n",
    "print(\"Type of x:\", type(x))\n"
   ]
  },
  {
   "cell_type": "code",
   "execution_count": null,
   "id": "5324a4e0",
   "metadata": {},
   "outputs": [
    {
     "name": "stdout",
     "output_type": "stream",
     "text": [
      "Area: 78.53981633974483\n",
      "Type of area: <class 'float'>\n"
     ]
    }
   ],
   "source": [
    "# 𝗖𝗿𝗲𝗮𝘁𝗲 area_of_circle(radius) 𝘂𝘀𝗶𝗻𝗴 𝝅r². 𝗜𝗺𝗽𝗼𝗿𝘁 math 𝗮𝗻𝗱 𝘂𝘀𝗲 math.pi. 𝗣𝗿𝗶𝗻𝘁 𝘁𝗵𝗲 𝗮𝗿𝗲𝗮 𝗮𝗻𝗱 𝗰𝗵𝗲𝗰𝗸 𝘁𝘆𝗽𝗲.\n",
    "import math\n",
    "def area_of_circle(radius):\n",
    "    return math.pi * radius ** 2\n",
    "area = area_of_circle(5)\n",
    "print(\"Area:\", area)\n",
    "print(\"Type of area:\", type(area))"
   ]
  },
  {
   "cell_type": "code",
   "execution_count": null,
   "id": "2b65d84b",
   "metadata": {},
   "outputs": [
    {
     "name": "stdout",
     "output_type": "stream",
     "text": [
      "Random number: 42\n",
      "50 or less\n"
     ]
    }
   ],
   "source": [
    "# 𝗜𝗺𝗽𝗼𝗿𝘁 random. 𝗚𝗲𝗻𝗲𝗿𝗮𝘁𝗲 𝗮 𝗿𝗮𝗻𝗱𝗼𝗺 𝗻𝘂𝗺𝗯𝗲𝗿 𝘂𝘀𝗶𝗻𝗴 randint(10, 100). 𝗗𝗲𝗳𝗶𝗻𝗲 check_number(num) \n",
    "# 𝘁𝗼 𝗰𝗵𝗲𝗰𝗸 𝗶𝗳 𝗴𝗿𝗲𝗮𝘁𝗲𝗿 𝘁𝗵𝗮𝗻 𝟱𝟬.\n",
    "import random\n",
    "num = random.randint(10, 100)\n",
    "print(\"Random number:\", num)\n",
    "def check_number(n):\n",
    "    if n > 50:\n",
    "        print(\"Greater than 50\")\n",
    "    else:\n",
    "        print(\"50 or less\")\n",
    "check_number(num)"
   ]
  },
  {
   "cell_type": "code",
   "execution_count": 22,
   "id": "ee8318d9",
   "metadata": {},
   "outputs": [
    {
     "name": "stdout",
     "output_type": "stream",
     "text": [
      "Max: 8\n",
      "2^3 = 8.0\n",
      "Name: Sara | Age: 20\n"
     ]
    }
   ],
   "source": [
    "# 𝗨𝘀𝗲 max() 𝗼𝗻 𝗮 𝗹𝗶𝘀𝘁. 𝗜𝗺𝗽𝗼𝗿𝘁 math 𝗮𝗻𝗱 𝘂𝘀𝗲 math.pow(x, y). 𝗖𝗿𝗲𝗮𝘁𝗲 display_info() 𝘁𝗼 𝗽𝗿𝗶𝗻𝘁 𝗻𝗮𝗺𝗲 & 𝗮𝗴𝗲.\n",
    "import math\n",
    "nums = [2, 8, 5]\n",
    "print(\"Max:\", max(nums))\n",
    "print(\"2^3 =\", math.pow(2, 3))\n",
    "def display_info():\n",
    "    name = \"Sara\"\n",
    "    age = 20\n",
    "    print(\"Name:\", name, \"| Age:\", age)\n",
    "display_info()"
   ]
  },
  {
   "cell_type": "code",
   "execution_count": 24,
   "id": "e816091d",
   "metadata": {},
   "outputs": [
    {
     "name": "stdout",
     "output_type": "stream",
     "text": [
      "      May 2025\n",
      "Mo Tu We Th Fr Sa Su\n",
      "          1  2  3  4\n",
      " 5  6  7  8  9 10 11\n",
      "12 13 14 15 16 17 18\n",
      "19 20 21 22 23 24 25\n",
      "26 27 28 29 30 31\n",
      "\n",
      "Characters: 13\n",
      "This is a simple message.\n"
     ]
    }
   ],
   "source": [
    "# 𝗜𝗺𝗽𝗼𝗿𝘁 calendar. 𝗣𝗿𝗶𝗻𝘁 𝗠𝗮𝘆 𝟮𝟬𝟮𝟱 𝘂𝘀𝗶𝗻𝗴 calendar.month(2025, 5). 𝗖𝗼𝘂𝗻𝘁 𝗰𝗵𝗮𝗿𝗮𝗰𝘁𝗲𝗿𝘀 𝘄𝗶𝘁𝗵 len(). 𝗗𝗲𝗳𝗶𝗻𝗲 show_message().\n",
    "import calendar\n",
    "print(calendar.month(2025, 5))\n",
    "msg = \"Hello Python!\"\n",
    "print(\"Characters:\", len(msg))\n",
    "def show_message():\n",
    "    print(\"This is a simple message.\")\n",
    "show_message()"
   ]
  },
  {
   "cell_type": "code",
   "execution_count": 27,
   "id": "5443cb75",
   "metadata": {},
   "outputs": [
    {
     "name": "stdout",
     "output_type": "stream",
     "text": [
      "Current Directory: c:\\Users\\Kinza Amjad\\Desktop\\Python Assignment\n",
      "String: 25\n",
      "Product: 15\n"
     ]
    }
   ],
   "source": [
    "# 𝗜𝗺𝗽𝗼𝗿𝘁 os, 𝗽𝗿𝗶𝗻𝘁 𝗰𝘂𝗿𝗿𝗲𝗻𝘁 𝗱𝗶𝗿 𝘂𝘀𝗶𝗻𝗴 os.getcwd(). 𝗖𝗼𝗻𝘃𝗲𝗿𝘁 𝗶𝗻𝘁 𝘁𝗼 𝘀𝘁𝗿𝗶𝗻𝗴 𝘄𝗶𝘁𝗵 str(). 𝗖𝗿𝗲𝗮𝘁𝗲 multiply(x, y) 𝘁𝗼 𝗿𝗲𝘁𝘂𝗿𝗻 𝗽𝗿𝗼𝗱𝘂𝗰𝘁.\n",
    "\n",
    "import os\n",
    "print(\"Current Directory:\", os.getcwd())\n",
    "num = 25\n",
    "num_str = str(num)\n",
    "print(\"String:\", num_str)\n",
    "def multiply(x, y):\n",
    "    return x * y\n",
    "print(\"Product:\", multiply(5, 3))\n"
   ]
  },
  {
   "cell_type": "code",
   "execution_count": 28,
   "id": "7b2a44af",
   "metadata": {},
   "outputs": [
    {
     "name": "stdout",
     "output_type": "stream",
     "text": [
      "Type: <class 'int'>\n",
      "Square root: 3.0\n"
     ]
    }
   ],
   "source": [
    "# 𝗗𝗲𝗳𝗶𝗻𝗲 calculate_square_root(num) 𝘂𝘀𝗶𝗻𝗴 math.sqrt(). 𝗧𝗮𝗸𝗲 𝘂𝘀𝗲𝗿 𝗶𝗻𝗽𝘂𝘁, 𝗰𝗼𝗻𝘃𝗲𝗿𝘁 𝘁𝗼 int, 𝗰𝗵𝗲𝗰𝗸 𝘁𝘆𝗽𝗲,\n",
    "# 𝗮𝗻𝗱 𝗽𝗿𝗶𝗻𝘁 𝘀𝗾𝘂𝗮𝗿𝗲 𝗿𝗼𝗼𝘁.\n",
    "\n",
    "import math\n",
    "def calculate_square_root(num):\n",
    "    return math.sqrt(num)\n",
    "user_input = input(\"Enter a number: \")\n",
    "num = int(user_input)\n",
    "print(\"Type:\", type(num))\n",
    "print(\"Square root:\", calculate_square_root(num))"
   ]
  }
 ],
 "metadata": {
  "kernelspec": {
   "display_name": "Python 3",
   "language": "python",
   "name": "python3"
  },
  "language_info": {
   "codemirror_mode": {
    "name": "ipython",
    "version": 3
   },
   "file_extension": ".py",
   "mimetype": "text/x-python",
   "name": "python",
   "nbconvert_exporter": "python",
   "pygments_lexer": "ipython3",
   "version": "3.13.5"
  }
 },
 "nbformat": 4,
 "nbformat_minor": 5
}
