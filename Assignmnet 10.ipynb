{
 "cells": [
  {
   "cell_type": "code",
   "execution_count": 6,
   "id": "d9aecda8",
   "metadata": {},
   "outputs": [
    {
     "name": "stdout",
     "output_type": "stream",
     "text": [
      "25 <class 'int'>\n",
      "30 or less\n",
      "35 <class 'int'>\n",
      "Greater than 30\n",
      "50 <class 'int'>\n",
      "Greater than 30\n"
     ]
    }
   ],
   "source": [
    "# 𝗖𝗿𝗲𝗮𝘁𝗲 𝗮 𝗹𝗶𝘀𝘁 [\"𝟭𝟱\", \"𝟮𝟱\", \"𝟰𝟬\"]. 𝗖𝗼𝗻𝘃𝗲𝗿𝘁 𝗲𝗮𝗰𝗵 𝘁𝗼 int, 𝗮𝗱𝗱 𝟭𝟬, 𝘀𝘁𝗼𝗿𝗲 𝗶𝗻 𝗮 𝗻𝗲𝘄 tuple. 𝗣𝗿𝗶𝗻𝘁 𝗲𝗮𝗰𝗵 𝗲𝗹𝗲𝗺𝗲𝗻𝘁 𝗮𝗻𝗱 𝘁𝘆𝗽𝗲, \n",
    "# 𝗮𝗻𝗱 𝗹𝗮𝗯𝗲𝗹 𝘃𝗮𝗹𝘂𝗲𝘀 > 𝟯𝟬 𝘂𝘀𝗶𝗻𝗴 if-else.\n",
    "num_list = [\"15\", \"25\", \"40\"]\n",
    "new_list = [int(i) + 10 for i in num_list]\n",
    "new_tup = tuple(new_list)\n",
    "\n",
    "for val in new_tup:\n",
    "    print(val, type(val))\n",
    "    if val > 30:\n",
    "        print(\"Greater than 30\")\n",
    "    else:\n",
    "        print(\"30 or less\")"
   ]
  },
  {
   "cell_type": "code",
   "execution_count": null,
   "id": "cd8edff0",
   "metadata": {},
   "outputs": [
    {
     "name": "stdout",
     "output_type": "stream",
     "text": [
      "Eligible for voting\n"
     ]
    }
   ],
   "source": [
    "# 𝗧𝗮𝗸𝗲 𝘂𝘀𝗲𝗿 𝗶𝗻𝗽𝘂𝘁 𝗳𝗼𝗿 𝗻𝗮𝗺𝗲, 𝗮𝗴𝗲 (𝗮𝘀 𝘀𝘁𝗿𝗶𝗻𝗴), 𝗮𝗻𝗱 𝗰𝗶𝘁𝘆. 𝗖𝗼𝗻𝘃𝗲𝗿𝘁 𝗮𝗴𝗲 𝘁𝗼 int, 𝗮𝗱𝗱 𝗶𝗻𝘁𝗼 𝗱𝗶𝗰𝘁 & tuple, 𝗰𝗵𝗲𝗰𝗸 𝗲𝗹𝗶𝗴𝗶𝗯𝗶𝗹𝗶𝘁𝘆 𝗳𝗼𝗿 𝘃𝗼𝘁𝗶𝗻𝗴.\n",
    "name = input(\"Enter your name: \")\n",
    "age = int(input(\"Enter your age: \"))\n",
    "city = input(\"Enter your city: \")\n",
    "data_dict = {\"name\": name, \"age\": age, \"city\": city}\n",
    "data_tuple = (name, age, city)\n",
    "if age >= 18:\n",
    "    print(\"Eligible for voting\")\n",
    "else:\n",
    "    print(\"Not eligible for voting\")"
   ]
  },
  {
   "cell_type": "code",
   "execution_count": 9,
   "id": "8814d621",
   "metadata": {},
   "outputs": [
    {
     "name": "stdout",
     "output_type": "stream",
     "text": [
      "55 Pass <class 'int'> <class 'str'>\n",
      "45 Fail <class 'int'> <class 'str'>\n",
      "85 Pass <class 'int'> <class 'str'>\n",
      "35 Fail <class 'int'> <class 'str'>\n"
     ]
    }
   ],
   "source": [
    "# 𝗖𝗿𝗲𝗮𝘁𝗲 𝗮 𝗹𝗶𝘀𝘁 [\"𝟱𝟱\", \"𝟰𝟱\", \"𝟴𝟱\", \"𝟯𝟱\"]. 𝗖𝗼𝗻𝘃𝗲𝗿𝘁 𝘁𝗼 int, 𝗰𝗹𝗮𝘀𝘀𝗶𝗳𝘆 𝗮𝘀 \"𝗣𝗮𝘀𝘀\"/\"𝗙𝗮𝗶𝗹\" 𝘂𝘀𝗶𝗻𝗴 if-else, 𝘀𝘁𝗼𝗿𝗲 𝗶𝗻 𝗱𝗶𝗰𝘁,\n",
    "# 𝗽𝗿𝗶𝗻𝘁 𝗲𝗮𝗰𝗵 𝘄𝗶𝘁𝗵 type().\n",
    "marks = [\"55\", \"45\", \"85\", \"35\"]\n",
    "result = {}\n",
    "\n",
    "for mark in marks:\n",
    "    m = int(mark)\n",
    "    if m >= 50:\n",
    "        result[m] = \"Pass\"\n",
    "    else:\n",
    "        result[m] = \"Fail\"\n",
    "\n",
    "for k, v in result.items():\n",
    "    print(k, v, type(k), type(v))\n"
   ]
  },
  {
   "cell_type": "code",
   "execution_count": 10,
   "id": "1e4317eb",
   "metadata": {},
   "outputs": [
    {
     "name": "stdout",
     "output_type": "stream",
     "text": [
      "name : Farah\n",
      "age : 20\n",
      "score : 93.5\n"
     ]
    }
   ],
   "source": [
    "# 𝗗𝗲𝗳𝗶𝗻𝗲 𝗮 tuple (\"𝗙𝗮𝗿𝗮𝗵\", \"𝟮𝟬\", \"𝟴𝟴.𝟱\"). 𝗖𝗮𝘀𝘁 𝗮𝗴𝗲 𝘁𝗼 int, 𝘀𝗰𝗼𝗿𝗲 𝘁𝗼 float, 𝗮𝗱𝗱 𝟱 𝘁𝗼 𝘀𝗰𝗼𝗿𝗲, 𝗽𝘂𝘁 𝗶𝗻 𝗱𝗶𝗰𝘁, 𝗽𝗿𝗶𝗻𝘁 𝘂𝘀𝗶𝗻𝗴 𝗹𝗼𝗼𝗽.\n",
    "\n",
    "data = (\"Farah\", \"20\", \"88.5\")\n",
    "name = data[0]\n",
    "age = int(data[1])\n",
    "score = float(data[2]) + 5\n",
    "\n",
    "student = {\"name\": name, \"age\": age, \"score\": score}\n",
    "\n",
    "for k, v in student.items():\n",
    "    print(k, \":\", v)\n"
   ]
  },
  {
   "cell_type": "code",
   "execution_count": 11,
   "id": "8060d605",
   "metadata": {},
   "outputs": [
    {
     "name": "stdout",
     "output_type": "stream",
     "text": [
      "Count > 4 letters: 1\n",
      "{'Ana': 'short', 'Sana': 'short', 'Salman': 'medium'}\n"
     ]
    }
   ],
   "source": [
    "# 𝗟𝗶𝘀𝘁 𝗼𝗳 𝗻𝗮𝗺𝗲𝘀 = [\"𝗔𝗻𝗮\", \"𝗦𝗮𝗻𝗮\", \"𝗦𝗮𝗹𝗺𝗮𝗻\"]. 𝗖𝗼𝘂𝗻𝘁 𝗻𝗮𝗺𝗲𝘀 > 𝟰 𝗹𝗲𝘁𝘁𝗲𝗿𝘀. 𝗖𝗿𝗲𝗮𝘁𝗲 𝗱𝗶𝗰𝘁: 𝗻𝗮𝗺𝗲 ➝ 𝗹𝗲𝗻𝗴𝘁𝗵,\n",
    "# 𝗹𝗮𝗯𝗲𝗹 𝗮𝘀 \"𝘀𝗵𝗼𝗿𝘁\"/\"𝗺𝗲𝗱𝗶𝘂𝗺\"/\"𝗹𝗼𝗻𝗴\".\n",
    "names = [\"Ana\", \"Sana\", \"Salman\"]\n",
    "count = 0\n",
    "length_dict = {}\n",
    "\n",
    "for name in names:\n",
    "    length = len(name)\n",
    "    if length > 4:\n",
    "        count += 1\n",
    "\n",
    "    if length <= 4:\n",
    "        label = \"short\"\n",
    "    elif length <= 6:\n",
    "        label = \"medium\"\n",
    "    else:\n",
    "        label = \"long\"\n",
    "    \n",
    "    length_dict[name] = label\n",
    "\n",
    "print(\"Count > 4 letters:\", count)\n",
    "print(length_dict)\n",
    "\n",
    "\n"
   ]
  },
  {
   "cell_type": "code",
   "execution_count": 25,
   "id": "4531be43",
   "metadata": {},
   "outputs": [
    {
     "name": "stdout",
     "output_type": "stream",
     "text": [
      "sugar => Affordable\n"
     ]
    }
   ],
   "source": [
    "# 𝗜𝗻𝗽𝘂𝘁 𝗽𝗿𝗼𝗱𝘂𝗰𝘁 𝗻𝗮𝗺𝗲𝘀 & 𝗽𝗿𝗶𝗰𝗲𝘀 (𝗮𝘀 𝘀𝘁𝗿𝗶𝗻𝗴𝘀). 𝗖𝗮𝘀𝘁 𝗽𝗿𝗶𝗰𝗲𝘀 𝘁𝗼 float, 𝗽𝘂𝘁 𝗶𝗻 𝗱𝗶𝗰𝘁, 𝗽𝗿𝗶𝗻𝘁 𝘄𝗶𝘁𝗵 if 𝗵𝗶𝗴𝗵𝗹𝗶𝗴𝗵𝘁𝗶𝗻𝗴 𝗶𝘁𝗲𝗺𝘀 > 𝟭𝟬𝟬.\n",
    "products = {}\n",
    "for i in range(1):\n",
    "    name = input(\"Enter product name: \")\n",
    "    price = float(input(\"Enter price: \"))\n",
    "    products[name] = price\n",
    "\n",
    "for k, v in products.items():\n",
    "    if v > 100:\n",
    "        print(k, \"=> Expensive\")\n",
    "    else:\n",
    "        print(k, \"=> Affordable\")\n"
   ]
  },
  {
   "cell_type": "code",
   "execution_count": 18,
   "id": "e20da5a7",
   "metadata": {},
   "outputs": [
    {
     "name": "stdout",
     "output_type": "stream",
     "text": [
      "100.0 is Below 250\n",
      "200.0 is Below 250\n",
      "300.5 is Above 250\n",
      "400.0 is Above 250\n"
     ]
    }
   ],
   "source": [
    "# 𝗠𝗶𝘅𝗲𝗱 𝗹𝗶𝘀𝘁 = [\"𝟭𝟬𝟬\", 𝟮𝟬𝟬, 𝟯𝟬𝟬.𝟱, \"𝟰𝟬𝟬\"]. 𝗖𝗼𝗻𝘃𝗲𝗿𝘁 𝘁𝗼 float, 𝗽𝗿𝗶𝗻𝘁 𝗮𝗻𝗱 𝗰𝗮𝘁𝗲𝗴𝗼𝗿𝗶𝘇𝗲 𝗮𝘀 \"𝗔𝗯𝗼𝘃𝗲 𝟮𝟱𝟬\"/\"𝗕𝗲𝗹𝗼𝘄 𝟮𝟱𝟬\".\n",
    "mixed = [\"100\", 200, 300.5, \"400\"]\n",
    "for item in mixed:\n",
    "    f = float(item)\n",
    "    if f > 250:\n",
    "        print(f, \"is Above 250\")\n",
    "    else:\n",
    "        print(f, \"is Below 250\")"
   ]
  },
  {
   "cell_type": "code",
   "execution_count": 19,
   "id": "6ece956d",
   "metadata": {},
   "outputs": [
    {
     "name": "stdout",
     "output_type": "stream",
     "text": [
      "name : Ali\n",
      "age : 25\n",
      "is_student : True\n"
     ]
    }
   ],
   "source": [
    "# 𝗧𝘂𝗽𝗹𝗲 = (\"𝗔𝗹𝗶\", \"𝟮𝟱\", \"𝗧𝗿𝘂𝗲\"). 𝗖𝗼𝗻𝘃𝗲𝗿𝘁 𝗮𝗴𝗲 𝘁𝗼 int, 𝘀𝘁𝗿𝗶𝗻𝗴 𝗧𝗿𝘂𝗲 𝘁𝗼 bool, 𝘀𝘁𝗼𝗿𝗲 𝗶𝗻 𝗱𝗶𝗰𝘁, 𝗽𝗿𝗶𝗻𝘁 𝗸𝗲𝘆-𝘃𝗮𝗹𝘂𝗲𝘀 \n",
    "# 𝘄𝗶𝘁𝗵 𝘀𝘁𝘂𝗱𝗲𝗻𝘁 𝗰𝗵𝗲𝗰𝗸.\n",
    "\n",
    "data = (\"Ali\", \"25\", \"True\")\n",
    "name = data[0]\n",
    "age = int(data[1])\n",
    "student = bool(data[2] == \"True\")\n",
    "\n",
    "info = {\"name\": name, \"age\": age, \"is_student\": student}\n",
    "\n",
    "for k, v in info.items():\n",
    "    print(k, \":\", v)\n"
   ]
  },
  {
   "cell_type": "code",
   "execution_count": 20,
   "id": "a863aa1a",
   "metadata": {},
   "outputs": [
    {
     "name": "stdout",
     "output_type": "stream",
     "text": [
      "Total: 175\n",
      "Average: 87.5\n",
      "Grade: B\n"
     ]
    }
   ],
   "source": [
    "# 𝗦𝘂𝗯𝗷𝗲𝗰𝘁𝘀 𝗱𝗶𝗰𝘁 = {\"𝗠𝗮𝘁𝗵\": \"𝟵𝟬\", \"𝗘𝗻𝗴𝗹𝗶𝘀𝗵\": \"𝟴𝟱\"}. 𝗖𝗼𝗻𝘃𝗲𝗿𝘁 𝘁𝗼 int, 𝗰𝗮𝗹𝗰𝘂𝗹𝗮𝘁𝗲 𝘁𝗼𝘁𝗮𝗹 & 𝗮𝘃𝗲𝗿𝗮𝗴𝗲, 𝗮𝘀𝘀𝗶𝗴𝗻 𝗴𝗿𝗮𝗱𝗲𝘀\n",
    "# 𝘂𝘀𝗶𝗻𝗴 if-elif-else.\n",
    "subjects = {\"Math\": \"90\", \"English\": \"85\"}\n",
    "total = 0\n",
    "\n",
    "for k in subjects:\n",
    "    subjects[k] = int(subjects[k])\n",
    "    total += subjects[k]\n",
    "\n",
    "avg = total / len(subjects)\n",
    "\n",
    "if avg >= 90:\n",
    "    grade = \"A\"\n",
    "elif avg >= 80:\n",
    "    grade = \"B\"\n",
    "else:\n",
    "    grade = \"C\"\n",
    "\n",
    "print(\"Total:\", total)\n",
    "print(\"Average:\", avg)\n",
    "print(\"Grade:\", grade)\n"
   ]
  },
  {
   "cell_type": "code",
   "execution_count": 26,
   "id": "0078ce1e",
   "metadata": {},
   "outputs": [
    {
     "name": "stdout",
     "output_type": "stream",
     "text": [
      "Total Price: 8300.0\n",
      "Expensive Gadgets: {'mobile phone': 'Expensive', 'speaker': 'Expensive', 'SMART WATCH': 'Expensive', 'printer': 'Expensive', 'tablet': 'Expensive'}\n"
     ]
    }
   ],
   "source": [
    "# 𝗔𝘀𝗸 𝘂𝘀𝗲𝗿 𝗳𝗼𝗿 𝟱 𝗴𝗮𝗱𝗴𝗲𝘁 𝗻𝗮𝗺𝗲𝘀 (𝘀𝘁𝗿𝗶𝗻𝗴𝘀), 𝗰𝗼𝗻𝘃𝗲𝗿𝘁 𝟯𝗿𝗱 𝘁𝗼 uppercase(), 𝘀𝘁𝗼𝗿𝗲 𝗽𝗿𝗶𝗰𝗲𝘀 𝗶𝗻 𝗮𝗻𝗼𝘁𝗵𝗲𝗿 𝗹𝗶𝘀𝘁, 𝗰𝗮𝗹𝗰𝘂𝗹𝗮𝘁𝗲 𝘁𝗼𝘁𝗮𝗹 \n",
    "# & 𝗳𝗹𝗮𝗴 𝗲𝘅𝗽𝗲𝗻𝘀𝗶𝘃𝗲 𝗶𝘁𝗲𝗺𝘀 𝗶𝗻 𝗱𝗶𝗰𝘁.\n",
    "gadgets = []\n",
    "prices = []\n",
    "for i in range(5):\n",
    "    name = input(f\"Enter gadget {i+1}: \")\n",
    "    if i == 2:\n",
    "        name = name.upper()\n",
    "    gadgets.append(name)\n",
    "    price = float(input(f\"Enter price of {name}: \"))\n",
    "    prices.append(price)\n",
    "\n",
    "total_price = sum(prices)\n",
    "\n",
    "expensive = {}\n",
    "for i in range(5):\n",
    "    if prices[i] > 100:\n",
    "        expensive[gadgets[i]] = \"Expensive\"\n",
    "\n",
    "print(\"Total Price:\", total_price)\n",
    "print(\"Expensive Gadgets:\", expensive)"
   ]
  }
 ],
 "metadata": {
  "kernelspec": {
   "display_name": "Python 3",
   "language": "python",
   "name": "python3"
  },
  "language_info": {
   "codemirror_mode": {
    "name": "ipython",
    "version": 3
   },
   "file_extension": ".py",
   "mimetype": "text/x-python",
   "name": "python",
   "nbconvert_exporter": "python",
   "pygments_lexer": "ipython3",
   "version": "3.13.5"
  }
 },
 "nbformat": 4,
 "nbformat_minor": 5
}
