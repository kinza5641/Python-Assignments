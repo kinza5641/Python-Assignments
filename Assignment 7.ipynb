{
 "cells": [
  {
   "cell_type": "code",
   "execution_count": 13,
   "id": "88f95723",
   "metadata": {},
   "outputs": [
    {
     "name": "stdout",
     "output_type": "stream",
     "text": [
      "full name: kinza amjad\n",
      "number of characters: 11\n"
     ]
    }
   ],
   "source": [
    "# 𝗧𝗮𝗸𝗲 𝘂𝘀𝗲𝗿 𝗶𝗻𝗽𝘂𝘁 𝗳𝗼𝗿 𝘁𝗵𝗲𝗶𝗿 𝗳𝘂𝗹𝗹 𝗻𝗮𝗺𝗲. 𝗣𝗿𝗶𝗻𝘁 𝗵𝗼𝘄 𝗺𝗮𝗻𝘆 𝗰𝗵𝗮𝗿𝗮𝗰𝘁𝗲𝗿𝘀 𝗮𝗿𝗲 𝗶𝗻 𝘁𝗵𝗲 𝗻𝗮𝗺𝗲 𝘂𝘀𝗶𝗻𝗴 len().\n",
    "name=input(\"enter your full name:\")\n",
    "print(\"full name:\",name)\n",
    "print(\"number of characters:\",len(name))"
   ]
  },
  {
   "cell_type": "code",
   "execution_count": 16,
   "id": "d516986e",
   "metadata": {},
   "outputs": [
    {
     "name": "stdout",
     "output_type": "stream",
     "text": [
      "ayesha\n",
      "haseeb\n",
      "binish\n"
     ]
    }
   ],
   "source": [
    "#  𝗖𝗿𝗲𝗮𝘁𝗲 𝗮 𝗹𝗶𝘀𝘁 𝗼𝗳 𝟱 𝗻𝗮𝗺𝗲𝘀. 𝗣𝗿𝗶𝗻𝘁 𝗼𝗻𝗹𝘆 𝘁𝗵𝗲 𝗻𝗮𝗺𝗲𝘀 𝘁𝗵𝗮𝘁 𝗵𝗮𝘃𝗲 𝗺𝗼𝗿𝗲 𝘁𝗵𝗮𝗻 𝟱 𝗰𝗵𝗮𝗿𝗮𝗰𝘁𝗲𝗿𝘀.\n",
    "names=[\"aqsa\",\"ayesha\",\"haseeb\",\"kiran\",\"binish\"]\n",
    "for x in names:\n",
    "    if len(x)>5:\n",
    "        print(x)"
   ]
  },
  {
   "cell_type": "code",
   "execution_count": 17,
   "id": "14e002cc",
   "metadata": {},
   "outputs": [
    {
     "name": "stdout",
     "output_type": "stream",
     "text": [
      "python is present\n"
     ]
    }
   ],
   "source": [
    "# 𝗔𝘀𝗸 𝘁𝗵𝗲 𝘂𝘀𝗲𝗿 𝘁𝗼 𝗲𝗻𝘁𝗲𝗿 𝗮 𝘀𝗲𝗻𝘁𝗲𝗻𝗰𝗲. 𝗖𝗼𝗻𝘃𝗲𝗿𝘁 𝗶𝘁 𝘁𝗼 𝗹𝗼𝘄𝗲𝗿𝗰𝗮𝘀𝗲 𝗮𝗻𝗱 𝗰𝗵𝗲𝗰𝗸 𝗶𝗳 𝘁𝗵𝗲 𝘄𝗼𝗿𝗱 \"python\" 𝗶𝘀 𝗽𝗿𝗲𝘀𝗲𝗻𝘁.\n",
    "sentence=input(\"enter a sentence:\")\n",
    "senterce=sentence.lower()\n",
    "if \"python\" in sentence:\n",
    "    print(\"python is present\")\n",
    "else:\n",
    "    print(\"python is not present\")    "
   ]
  },
  {
   "cell_type": "code",
   "execution_count": 19,
   "id": "3472c6bd",
   "metadata": {},
   "outputs": [
    {
     "name": "stdout",
     "output_type": "stream",
     "text": [
      "6\n",
      "9\n",
      "57\n",
      "24\n"
     ]
    }
   ],
   "source": [
    "# 𝗖𝗿𝗲𝗮𝘁𝗲 𝗮 𝗹𝗶𝘀𝘁 𝗼𝗳 𝗻𝘂𝗺𝗯𝗲𝗿𝘀. 𝗣𝗿𝗶𝗻𝘁 𝗼𝗻𝗹𝘆 𝘁𝗵𝗲 𝗻𝘂𝗺𝗯𝗲𝗿𝘀 𝘁𝗵𝗮𝘁 𝗮𝗿𝗲 𝗱𝗶𝘃𝗶𝘀𝗶𝗯𝗹𝗲 𝗯𝘆 𝟯.\n",
    "numbers=[2,6,9,57,24,4]\n",
    "for num in numbers:\n",
    "    if num%3==0:\n",
    "      print(num)"
   ]
  },
  {
   "cell_type": "code",
   "execution_count": 20,
   "id": "655eb484",
   "metadata": {},
   "outputs": [
    {
     "name": "stdout",
     "output_type": "stream",
     "text": [
      "negative\n"
     ]
    }
   ],
   "source": [
    "# 𝗧𝗮𝗸𝗲 𝗮𝗻 𝗶𝗻𝗽𝘂𝘁 𝗻𝘂𝗺𝗯𝗲𝗿. 𝗨𝘀𝗲 if-elif-else 𝘁𝗼 𝗰𝗵𝗲𝗰𝗸 𝘄𝗵𝗲𝘁𝗵𝗲𝗿 𝗶𝘁'𝘀 𝗽𝗼𝘀𝗶𝘁𝗶𝘃𝗲, 𝗻𝗲𝗴𝗮𝘁𝗶𝘃𝗲, 𝗼𝗿 𝘇𝗲𝗿𝗼.\n",
    "num=int(input(\"entera number:\"))\n",
    "if num>0:\n",
    "    print(\"positive\")\n",
    "elif num<0:\n",
    "    print(\"negative\") \n",
    "else:\n",
    "    print(\"zero\")      "
   ]
  },
  {
   "cell_type": "code",
   "execution_count": 22,
   "id": "4d6334a4",
   "metadata": {},
   "outputs": [
    {
     "name": "stdout",
     "output_type": "stream",
     "text": [
      "greater number b is: 30\n"
     ]
    }
   ],
   "source": [
    "# 𝗧𝗮𝗸𝗲 𝘁𝘄𝗼 𝗶𝗻𝗽𝘂𝘁 𝗻𝘂𝗺𝗯𝗲𝗿𝘀 𝗮𝗻𝗱 𝗽𝗿𝗶𝗻𝘁 𝘁𝗵𝗲𝗶𝗿 𝗚𝗥𝗘𝗔𝗧𝗘𝗥 𝗼𝗻𝗲 𝘂𝘀𝗶𝗻𝗴 if-else.\n",
    "a=int(input(\"enter first number:\"))\n",
    "b=int(input(\"enter second number:\"))\n",
    "if a>b:\n",
    "    print(\"greater number a is:\",a)\n",
    "else:\n",
    "    print(\"greater number b is:\",b)    "
   ]
  },
  {
   "cell_type": "code",
   "execution_count": 23,
   "id": "86564ec2",
   "metadata": {},
   "outputs": [
    {
     "name": "stdout",
     "output_type": "stream",
     "text": [
      "updated city list: ['karachi', 'lahore', 'gujranwala', 'islamabad']\n"
     ]
    }
   ],
   "source": [
    "# C𝗿𝗲𝗮𝘁𝗲 𝗮 𝗹𝗶𝘀𝘁 𝗼𝗳 𝗰𝗶𝘁𝗶𝗲𝘀. 𝗔𝗱𝗱 𝗮 𝗻𝗲𝘄 𝗰𝗶𝘁𝘆 𝗮𝘀 𝗶𝗻𝗽𝘂𝘁 𝗳𝗿𝗼𝗺 𝘁𝗵𝗲 𝘂𝘀𝗲𝗿 𝗮𝗻𝗱 𝗽𝗿𝗶𝗻𝘁 𝘁𝗵𝗲 𝘂𝗽𝗱𝗮𝘁𝗲𝗱 𝗹𝗶𝘀𝘁.\n",
    "cities=[\"karachi\",\"lahore\",\"gujranwala\"]\n",
    "new_city=input(\"enter a new city:\")\n",
    "cities.append(new_city)\n",
    "print(\"updated city list:\",cities)"
   ]
  },
  {
   "cell_type": "code",
   "execution_count": 26,
   "id": "c727eb8a",
   "metadata": {},
   "outputs": [
    {
     "name": "stdout",
     "output_type": "stream",
     "text": [
      "butter\n",
      "salt\n",
      "tea\n",
      "bread\n",
      "sugar\n"
     ]
    }
   ],
   "source": [
    "# 𝗖𝗿𝗲𝗮𝘁𝗲 𝗮 𝗹𝗶𝘀𝘁 𝗼𝗳 𝟱 𝘄𝗼𝗿𝗱𝘀. 𝗣𝗿𝗶𝗻𝘁 𝗲𝗮𝗰𝗵 𝘄𝗼𝗿𝗱 𝗼𝗻 𝗮 𝗻𝗲𝘄 𝗹𝗶𝗻𝗲 𝗶𝗻 𝗿𝗲𝘃𝗲𝗿𝘀𝗲 𝗼𝗿𝗱𝗲𝗿.\n",
    "words=[\"sugar\",\"bread\",\"tea\",\"salt\",\"butter\"]\n",
    "for word in reversed(words):\n",
    "    print(word) "
   ]
  },
  {
   "cell_type": "code",
   "execution_count": 30,
   "id": "26044e55",
   "metadata": {},
   "outputs": [
    {
     "name": "stdout",
     "output_type": "stream",
     "text": [
      "Total :  238\n",
      "Average :  79.33333333333333\n",
      "Grade:  C\n"
     ]
    }
   ],
   "source": [
    "# 𝗧𝗮𝗸𝗲 𝘂𝘀𝗲𝗿 𝗶𝗻𝗽𝘂𝘁 𝗼𝗳 𝘁𝗵𝗿𝗲𝗲 𝗺𝗮𝗿𝗸𝘀. 𝗖𝗮𝗹𝗰𝘂𝗹𝗮𝘁𝗲 𝘁𝗼𝘁𝗮𝗹, 𝗮𝘃𝗲𝗿𝗮𝗴𝗲, 𝗮𝗻𝗱 𝗴𝗿𝗮𝗱𝗲 (𝗔/𝗕/𝗖/𝗙𝗮𝗶𝗹).\n",
    "\n",
    "a = int(input(\"Enter your Math mark: \"))\n",
    "b= int(input(\"Enter your Science mark: \"))\n",
    "c= int(input(\"Enter your English mark: \"))\n",
    "total_marks = a+b+c\n",
    "average_marks = total_marks / 3\n",
    "if average_marks >= 90:\n",
    "    grade = 'A'\n",
    "elif average_marks >= 80:\n",
    "    grade = 'B'\n",
    "elif average_marks >= 70:\n",
    "    grade = 'C'\n",
    "else:\n",
    "    grade = 'Fail'\n",
    "\n",
    "print(\"Total : \", total_marks)\n",
    "print(\"Average : \", average_marks)\n",
    "print(\"Grade: \", grade)"
   ]
  },
  {
   "cell_type": "code",
   "execution_count": 27,
   "id": "f7b18e0a",
   "metadata": {},
   "outputs": [
    {
     "name": "stdout",
     "output_type": "stream",
     "text": [
      "not found\n"
     ]
    }
   ],
   "source": [
    "# 𝗖𝗿𝗲𝗮𝘁𝗲 𝗮 𝗹𝗶𝘀𝘁 𝗼𝗳 𝗳𝗿𝘂𝗶𝘁𝘀. 𝗖𝗵𝗲𝗰𝗸 𝗶𝗳 \"apple\" 𝗶𝘀 𝗶𝗻 𝘁𝗵𝗲 𝗹𝗶𝘀𝘁. 𝗣𝗿𝗶𝗻𝘁 \"𝗙𝗼𝘂𝗻𝗱\" 𝗼𝗿 \"𝗡𝗼𝘁 𝗙𝗼𝘂𝗻𝗱\".\n",
    "fruits=[\"mango\",\"banana\",\"pear\",\"peach\"]\n",
    "if \"apple\" in fruits:\n",
    "    print(\"found\")\n",
    "else:\n",
    "    print(\"not found\")"
   ]
  }
 ],
 "metadata": {
  "language_info": {
   "name": "python"
  }
 },
 "nbformat": 4,
 "nbformat_minor": 5
}
