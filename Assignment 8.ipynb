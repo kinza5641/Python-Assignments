{
 "cells": [
  {
   "cell_type": "code",
   "execution_count": 5,
   "id": "c4fce637",
   "metadata": {},
   "outputs": [
    {
     "name": "stdout",
     "output_type": "stream",
     "text": [
      "Sum: 7.3\n"
     ]
    }
   ],
   "source": [
    "#  𝗖𝗿𝗲𝗮𝘁𝗲 𝗮 𝗹𝗶𝘀𝘁 𝗼𝗳 𝟯 𝗳𝗹𝗼𝗮𝘁 𝗻𝘂𝗺𝗯𝗲𝗿𝘀 𝗮𝘀 𝘀𝘁𝗿𝗶𝗻𝗴𝘀 (𝗲.𝗴. [\"𝟭.𝟱\", \"𝟮.𝟴\", \"𝟯.𝟬\"]). 𝗖𝗼𝗻𝘃𝗲𝗿𝘁 𝗲𝗮𝗰𝗵 𝘁𝗼 float 𝗮𝗻𝗱 𝗽𝗿𝗶𝗻𝘁 𝘁𝗵𝗲 𝘀𝘂𝗺.\n",
    "numbers = [\"1.5\", \"2.8\", \"3.0\"]\n",
    "total = float(numbers[0]) + float(numbers[1]) + float(numbers[2])\n",
    "print(\"Sum:\", total)"
   ]
  },
  {
   "cell_type": "code",
   "execution_count": 6,
   "id": "edec1533",
   "metadata": {},
   "outputs": [
    {
     "name": "stdout",
     "output_type": "stream",
     "text": [
      "Positive\n"
     ]
    }
   ],
   "source": [
    "# 𝗧𝗮𝗸𝗲 𝘂𝘀𝗲𝗿 𝗶𝗻𝗽𝘂𝘁 𝗳𝗼𝗿 𝗮 𝗻𝘂𝗺𝗯𝗲𝗿. 𝗖𝗵𝗲𝗰𝗸 𝘄𝗵𝗲𝘁𝗵𝗲𝗿 𝗶𝘁 𝗶𝘀 𝗽𝗼𝘀𝗶𝘁𝗶𝘃𝗲, 𝗻𝗲𝗴𝗮𝘁𝗶𝘃𝗲, 𝗼𝗿 𝘇𝗲𝗿𝗼 𝘂𝘀𝗶𝗻𝗴 if-elif-else.\n",
    "num = float(input(\"Enter a number: \"))\n",
    "if num > 0:\n",
    "    print(\"Positive\")\n",
    "elif num < 0:\n",
    "    print(\"Negative\")\n",
    "else:\n",
    "    print(\"Zero\") "
   ]
  },
  {
   "cell_type": "code",
   "execution_count": 7,
   "id": "adb8d8d6",
   "metadata": {},
   "outputs": [
    {
     "name": "stdout",
     "output_type": "stream",
     "text": [
      "Sum: 78\n",
      "Type: <class 'int'>\n"
     ]
    }
   ],
   "source": [
    "# 𝗧𝗮𝗸𝗲 𝘁𝘄𝗼 𝘀𝘁𝗿𝗶𝗻𝗴 𝗻𝘂𝗺𝗯𝗲𝗿𝘀 𝗮𝘀 𝗶𝗻𝗽𝘂𝘁 𝗳𝗿𝗼𝗺 𝘁𝗵𝗲 𝘂𝘀𝗲𝗿. 𝗖𝗼𝗻𝘃𝗲𝗿𝘁 𝘁𝗼 int, 𝗮𝗱𝗱 𝘁𝗵𝗲𝗺, 𝗮𝗻𝗱 𝗽𝗿𝗶𝗻𝘁 𝘁𝗵𝗲 𝗿𝗲𝘀𝘂𝗹𝘁 𝘄𝗶𝘁𝗵 𝘁𝘆𝗽𝗲.\n",
    "num1 = input(\"Enter first number: \")\n",
    "num2 = input(\"Enter second number: \")\n",
    "total = int(num1) + int(num2)\n",
    "print(\"Sum:\", total)\n",
    "print(\"Type:\", type(total))"
   ]
  },
  {
   "cell_type": "code",
   "execution_count": 8,
   "id": "d6f80d98",
   "metadata": {},
   "outputs": [
    {
     "name": "stdout",
     "output_type": "stream",
     "text": [
      "Updated List: [5, 8, 10.5, True]\n"
     ]
    }
   ],
   "source": [
    "# 𝗗𝗲𝗳𝗶𝗻𝗲 𝗮 𝗹𝗶𝘀𝘁 𝗼𝗳 𝗺𝗶𝘅𝗲𝗱 𝘁𝘆𝗽𝗲𝘀 (𝗲.𝗴. [\"𝟱\", 𝟴, 𝟭𝟬.𝟱, 𝗧𝗿𝘂𝗲]). 𝗨𝘀𝗲 𝗮 𝗹𝗼𝗼𝗽 𝘁𝗼 𝗰𝗼𝗻𝘃𝗲𝗿𝘁 𝘀𝘁𝗿𝗶𝗻𝗴𝘀 𝗶𝗻𝘁𝗼 𝗶𝗻𝘁𝗲𝗴𝗲𝗿𝘀.\n",
    "items = [\"5\", 8, 10.5, True]\n",
    "for i in range(len(items)):\n",
    "    if type(items[i]) == str:\n",
    "        items[i] = int(items[i])\n",
    "print(\"Updated List:\", items)"
   ]
  },
  {
   "cell_type": "code",
   "execution_count": 9,
   "id": "380b7f55",
   "metadata": {},
   "outputs": [
    {
     "name": "stdout",
     "output_type": "stream",
     "text": [
      "Total: 219\n",
      "Percentage: 73.0 %\n"
     ]
    }
   ],
   "source": [
    "# 𝗧𝗮𝗸𝗲 𝘂𝘀𝗲𝗿 𝗶𝗻𝗽𝘂𝘁 𝗳𝗼𝗿 𝟯 𝗺𝗮𝗿𝗸𝘀 (𝗮𝘀 𝘀𝘁𝗿𝗶𝗻𝗴𝘀), 𝗰𝗼𝗻𝘃𝗲𝗿𝘁 𝘁𝗼 int, 𝗮𝗻𝗱 𝗽𝗿𝗶𝗻𝘁 𝘁𝗵𝗲 𝘁𝗼𝘁𝗮𝗹 𝗮𝗻𝗱 𝗽𝗲𝗿𝗰𝗲𝗻𝘁𝗮𝗴𝗲.\n",
    "mark1 = input(\"Enter first mark: \")\n",
    "mark2 = input(\"Enter second mark: \")\n",
    "mark3 = input(\"Enter third mark: \")\n",
    "total = int(mark1) + int(mark2) + int(mark3)\n",
    "percentage = (total / 300) * 100\n",
    "print(\"Total:\", total)\n",
    "print(\"Percentage:\", percentage, \"%\")\n"
   ]
  },
  {
   "cell_type": "code",
   "execution_count": 10,
   "id": "04d124d6",
   "metadata": {},
   "outputs": [
    {
     "name": "stdout",
     "output_type": "stream",
     "text": [
      "Result: 8.4\n",
      "Greater than 5\n"
     ]
    }
   ],
   "source": [
    "# 𝗖𝗿𝗲𝗮𝘁𝗲 𝗮 𝘀𝘁𝗿𝗶𝗻𝗴 𝘃𝗮𝗿𝗶𝗮𝗯𝗹𝗲 𝗼𝗳 𝗮 𝗳𝗹𝗼𝗮𝘁 𝘃𝗮𝗹𝘂𝗲 (𝗲.𝗴. \"𝟰.𝟮\"). 𝗖𝗼𝗻𝘃𝗲𝗿𝘁 𝘁𝗼 float, 𝗺𝘂𝗹𝘁𝗶𝗽𝗹𝘆 𝗯𝘆 𝟮, 𝗮𝗻𝗱 𝗰𝗵𝗲𝗰𝗸 𝗶𝗳 𝗿𝗲𝘀𝘂𝗹𝘁 > 𝟱.\n",
    "value = \"4.2\"\n",
    "result = float(value) * 2\n",
    "print(\"Result:\", result)\n",
    "if result > 5:\n",
    "    print(\"Greater than 5\")\n",
    "else:\n",
    "    print(\"Not greater than 5\")\n"
   ]
  },
  {
   "cell_type": "code",
   "execution_count": null,
   "id": "f88bb803",
   "metadata": {},
   "outputs": [
    {
     "name": "stdout",
     "output_type": "stream",
     "text": [
      "45 Fail\n",
      "67 Pass\n",
      "38 Fail\n",
      "90 Pass\n"
     ]
    }
   ],
   "source": [
    "# 𝗖𝗿𝗲𝗮𝘁𝗲 𝗮 𝗹𝗶𝘀𝘁 𝗼𝗳 𝟰 𝗺𝗮𝗿𝗸𝘀 (𝗮𝘀 𝘀𝘁𝗿𝗶𝗻𝗴𝘀). 𝗨𝘀𝗲 for 𝗹𝗼𝗼𝗽 𝘁𝗼 𝗰𝗼𝗻𝘃𝗲𝗿𝘁 𝗮𝗻𝗱 𝗰𝗵𝗲𝗰𝗸 𝗳𝗼𝗿 𝗽𝗮𝘀𝘀 𝗼𝗿 𝗳𝗮𝗶𝗹 (𝗺𝗮𝗿𝗸 >= 𝟱0).\n",
    "marks = [\"45\", \"67\", \"38\", \"90\"]\n",
    "for m in marks:\n",
    "    mark = int(m)\n",
    "    if mark >= 50:\n",
    "        print(mark, \"Pass\")\n",
    "    else:\n",
    "        print(mark, \"Fail\")"
   ]
  },
  {
   "cell_type": "code",
   "execution_count": 12,
   "id": "24acd46f",
   "metadata": {},
   "outputs": [
    {
     "name": "stdout",
     "output_type": "stream",
     "text": [
      "Valid email\n"
     ]
    }
   ],
   "source": [
    "# 𝗧𝗮𝗸𝗲 𝘂𝘀𝗲𝗿 𝗶𝗻𝗽𝘂𝘁 𝗼𝗳 𝗲𝗺𝗮𝗶𝗹 𝗮𝗻𝗱 𝗰𝗵𝗲𝗰𝗸 𝗶𝗳 𝗶𝘁 𝗰𝗼𝗻𝘁𝗮𝗶𝗻𝘀 \"@\" 𝘂𝘀𝗶𝗻𝗴 in. 𝗣𝗿𝗶𝗻𝘁 𝘃𝗮𝗹𝗶𝗱 𝗼𝗿 𝗶𝗻𝘃𝗮𝗹𝗶𝗱.\n",
    "email = input(\"Enter your email: \")\n",
    "if \"@\" in email:\n",
    "    print(\"Valid email\")\n",
    "else:\n",
    "    print(\"Invalid email\")"
   ]
  },
  {
   "cell_type": "code",
   "execution_count": 13,
   "id": "56f6962f",
   "metadata": {},
   "outputs": [
    {
     "name": "stdout",
     "output_type": "stream",
     "text": [
      "\"the\" appears 4 times\n"
     ]
    }
   ],
   "source": [
    "# 𝗧𝗮𝗸𝗲 𝘂𝘀𝗲𝗿 𝗶𝗻𝗽𝘂𝘁 𝗼𝗳 𝗮 𝘀𝗲𝗻𝘁𝗲𝗻𝗰𝗲. 𝗖𝗼𝘂𝗻𝘁 𝗵𝗼𝘄 𝗺𝗮𝗻𝘆 𝘁𝗶𝗺𝗲𝘀 𝘁𝗵𝗲 𝘄𝗼𝗿𝗱 \"the\" 𝗮𝗽𝗽𝗲𝗮𝗿𝘀.\n",
    "sentence = input(\"Enter a sentence: \")\n",
    "count = sentence.lower().split().count(\"the\")\n",
    "print('\"the\" appears', count, \"times\")"
   ]
  },
  {
   "cell_type": "code",
   "execution_count": 14,
   "id": "434d0520",
   "metadata": {},
   "outputs": [
    {
     "name": "stdout",
     "output_type": "stream",
     "text": [
      "2\n",
      "4\n",
      "6\n",
      "8\n",
      "10\n"
     ]
    }
   ],
   "source": [
    "# 𝗠𝗮𝗸𝗲 𝗮 𝗹𝗶𝘀𝘁 𝗼𝗳 𝗻𝘂𝗺𝗯𝗲𝗿𝘀 𝗳𝗿𝗼𝗺 𝟭 𝘁𝗼 𝟭𝟬 (𝗮𝘀 𝘀𝘁𝗿𝗶𝗻𝗴𝘀). 𝗖𝗼𝗻𝘃𝗲𝗿𝘁 𝘁𝗼 int, 𝗳𝗶𝗹𝘁𝗲𝗿 𝗼𝗻𝗹𝘆 𝗲𝘃𝗲𝗻 𝗻𝘂𝗺𝗯𝗲𝗿𝘀, 𝗮𝗻𝗱 𝗽𝗿𝗶𝗻𝘁 𝘁𝗵𝗲𝗺.\n",
    "nums = [\"1\", \"2\", \"3\", \"4\", \"5\", \"6\", \"7\", \"8\", \"9\", \"10\"]\n",
    "for n in nums:\n",
    "    if int(n) % 2 == 0:\n",
    "        print(n)"
   ]
  }
 ],
 "metadata": {
  "kernelspec": {
   "display_name": "Python 3",
   "language": "python",
   "name": "python3"
  },
  "language_info": {
   "codemirror_mode": {
    "name": "ipython",
    "version": 3
   },
   "file_extension": ".py",
   "mimetype": "text/x-python",
   "name": "python",
   "nbconvert_exporter": "python",
   "pygments_lexer": "ipython3",
   "version": "3.13.5"
  }
 },
 "nbformat": 4,
 "nbformat_minor": 5
}
