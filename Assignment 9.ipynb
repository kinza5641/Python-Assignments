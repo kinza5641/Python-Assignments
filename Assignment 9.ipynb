{
 "cells": [
  {
   "cell_type": "code",
   "execution_count": 1,
   "id": "95ec4ffb",
   "metadata": {},
   "outputs": [
    {
     "name": "stdout",
     "output_type": "stream",
     "text": [
      "Fail\n"
     ]
    }
   ],
   "source": [
    "# 𝗧𝗮𝗸𝗲 𝘂𝘀𝗲𝗿 𝗶𝗻𝗽𝘂𝘁 𝗳𝗼𝗿 𝗺𝗮𝗿𝗸𝘀 (𝗮𝘀 𝘀𝘁𝗿𝗶𝗻𝗴), 𝗰𝗼𝗻𝘃𝗲𝗿𝘁 𝘁𝗼 int, 𝗮𝗻𝗱 𝗽𝗿𝗶𝗻𝘁 \"𝗣𝗮𝘀𝘀\" 𝗶𝗳 𝗺𝗮𝗿𝗸𝘀 ≥ 𝟰𝟬, 𝗲𝗹𝘀𝗲 \"𝗙𝗮𝗶𝗹\".\n",
    "marks = input(\"Enter your marks: \")\n",
    "marks = int(marks)\n",
    "if marks >= 40:\n",
    "    print(\"Pass\")\n",
    "else:\n",
    "    print(\"Fail\")"
   ]
  },
  {
   "cell_type": "code",
   "execution_count": 2,
   "id": "0b689eba",
   "metadata": {},
   "outputs": [
    {
     "name": "stdout",
     "output_type": "stream",
     "text": [
      "25\n",
      "18\n",
      "30\n"
     ]
    }
   ],
   "source": [
    "# 𝗖𝗿𝗲𝗮𝘁𝗲 𝗮 𝗹𝗶𝘀𝘁 𝗼𝗳 𝗮𝗴𝗲𝘀 (𝗮𝘀 𝘀𝘁𝗿𝗶𝗻𝗴𝘀), 𝗰𝗼𝗻𝘃𝗲𝗿𝘁 𝘁𝗼 int, 𝗮𝗻𝗱 𝗽𝗿𝗶𝗻𝘁 𝗼𝗻𝗹𝘆 𝗮𝗴𝗲𝘀 𝘁𝗵𝗮𝘁 𝗮𝗿𝗲 𝟭𝟴+ 𝗶𝗻 𝗮 𝗹𝗼𝗼𝗽.\n",
    "ages = [\"12\", \"25\", \"18\", \"10\", \"30\"]\n",
    "for age in ages:\n",
    "    if int(age) >= 18:\n",
    "        print(age)"
   ]
  },
  {
   "cell_type": "code",
   "execution_count": 3,
   "id": "30424407",
   "metadata": {},
   "outputs": [
    {
     "name": "stdout",
     "output_type": "stream",
     "text": [
      "Divisible by both 5 and 7\n"
     ]
    }
   ],
   "source": [
    "# 𝗔𝘀𝗸 𝘁𝗵𝗲 𝘂𝘀𝗲𝗿 𝘁𝗼 𝗲𝗻𝘁𝗲𝗿 𝗮 𝗻𝘂𝗺𝗯𝗲𝗿. 𝗖𝗵𝗲𝗰𝗸 𝗶𝗳 𝗶𝘁'𝘀 𝗱𝗶𝘃𝗶𝘀𝗶𝗯𝗹𝗲 𝗯𝘆 𝟱 𝗼𝗿 𝟳, 𝗼𝗿 𝗯𝗼𝘁𝗵, 𝗮𝗻𝗱 𝗽𝗿𝗶𝗻𝘁 𝗮 𝗺𝗲𝘀𝘀𝗮𝗴𝗲.\n",
    "num = int(input(\"Enter a number: \"))\n",
    "if num % 5 == 0 and num % 7 == 0:\n",
    "    print(\"Divisible by both 5 and 7\")\n",
    "elif num % 5 == 0:\n",
    "    print(\"Divisible by 5\")\n",
    "elif num % 7 == 0:\n",
    "    print(\"Divisible by 7\")\n",
    "else:\n",
    "    print(\"Not divisible by 5 or 7\")\n"
   ]
  },
  {
   "cell_type": "code",
   "execution_count": 4,
   "id": "f8056950",
   "metadata": {},
   "outputs": [
    {
     "name": "stdout",
     "output_type": "stream",
     "text": [
      "6\n",
      "12\n"
     ]
    }
   ],
   "source": [
    "# 𝗖𝗿𝗲𝗮𝘁𝗲 𝗮 𝗹𝗶𝘀𝘁 [\"3\", \"6\", \"9\", \"12\"], 𝗰𝗮𝘀𝘁 𝘁𝗼 int, 𝗽𝗿𝗶𝗻𝘁 𝗼𝗻𝗹𝘆 𝗲𝗹𝗲𝗺𝗲𝗻𝘁𝘀 𝗱𝗶𝘃𝗶𝘀𝗶𝗯𝗹𝗲 𝗯𝘆 𝟲.\n",
    "numbers = [\"3\", \"6\", \"9\", \"12\"]\n",
    "for num in numbers:\n",
    "    if int(num) % 6 == 0:\n",
    "        print(num)\n"
   ]
  },
  {
   "cell_type": "code",
   "execution_count": 6,
   "id": "fed53f62",
   "metadata": {},
   "outputs": [
    {
     "name": "stdout",
     "output_type": "stream",
     "text": [
      "Hello ayesha, you are a kid.\n"
     ]
    }
   ],
   "source": [
    "# 𝗧𝗮𝗸𝗲 𝗻𝗮𝗺𝗲 𝗮𝗻𝗱 𝗮𝗴𝗲 𝗮𝘀 𝗶𝗻𝗽𝘂𝘁. 𝗖𝗼𝗻𝘃𝗲𝗿𝘁 𝗮𝗴𝗲 𝘁𝗼 int, 𝗮𝗻𝗱 𝗽𝗿𝗶𝗻𝘁 𝗮 𝗰𝘂𝘀𝘁𝗼𝗺 𝗴𝗿𝗲𝗲𝘁𝗶𝗻𝗴 𝗳𝗼𝗿 𝗮𝗱𝘂𝗹𝘁𝘀 𝗼𝗿 𝗸𝗶𝗱𝘀.\n",
    "name = input(\"Enter your name: \")\n",
    "age = int(input(\"Enter your age: \"))\n",
    "\n",
    "if age >= 18:\n",
    "    print(f\"Hello {name}, you are an adult.\")\n",
    "else:\n",
    "    print(f\"Hello {name}, you are a kid.\")"
   ]
  },
  {
   "cell_type": "code",
   "execution_count": 7,
   "id": "5a8c0325",
   "metadata": {},
   "outputs": [
    {
     "name": "stdout",
     "output_type": "stream",
     "text": [
      "Highest: 40\n",
      "Lowest: 5\n"
     ]
    }
   ],
   "source": [
    "# 𝗗𝗲𝗳𝗶𝗻𝗲 𝗮 𝗹𝗶𝘀𝘁 𝗼𝗳 𝟱 𝗻𝘂𝗺𝗯𝗲𝗿𝘀. 𝗣𝗿𝗶𝗻𝘁 𝘁𝗵𝗲 𝗵𝗶𝗴𝗵𝗲𝘀𝘁 𝗮𝗻𝗱 𝗹𝗼𝘄𝗲𝘀𝘁 𝘂𝘀𝗶𝗻𝗴 max() 𝗮𝗻𝗱 min().\n",
    "nums = [22, 5, 9, 13, 40]\n",
    "print(\"Highest:\", max(nums))\n",
    "print(\"Lowest:\", min(nums))"
   ]
  },
  {
   "cell_type": "code",
   "execution_count": 10,
   "id": "4af8d054",
   "metadata": {},
   "outputs": [
    {
     "name": "stdout",
     "output_type": "stream",
     "text": [
      "Sum of digits: 12\n"
     ]
    }
   ],
   "source": [
    "# 𝗧𝗮𝗸𝗲 𝗶𝗻𝗽𝘂𝘁 𝗼𝗳 𝗮 𝘀𝘁𝗿𝗶𝗻𝗴 𝗰𝗼𝗻𝘁𝗮𝗶𝗻𝗶𝗻𝗴 𝗻𝘂𝗺𝗯𝗲𝗿𝘀 𝗹𝗶𝗸𝗲 \"𝟭𝟬𝟬𝟮𝟬𝟬𝟯𝟬𝟬\". 𝗘𝘅𝘁𝗿𝗮𝗰𝘁 𝗮𝗻𝗱 𝘀𝘂𝗺 𝗮𝗹𝗹 𝗱𝗶𝗴𝗶𝘁𝘀.\n",
    "x= input(\"Enter numbers in a string (e.g., 100200300): \")\n",
    "total = 0\n",
    "for ch in x:\n",
    "    total += int(ch)\n",
    "print(\"Sum of digits:\", total)\n"
   ]
  },
  {
   "cell_type": "code",
   "execution_count": 11,
   "id": "80a83408",
   "metadata": {},
   "outputs": [
    {
     "name": "stdout",
     "output_type": "stream",
     "text": [
      "Password too short\n"
     ]
    }
   ],
   "source": [
    "# 𝗔𝘀𝗸 𝘁𝗵𝗲 𝘂𝘀𝗲𝗿 𝘁𝗼 𝗲𝗻𝘁𝗲𝗿 𝗮 𝗽𝗮𝘀𝘀𝘄𝗼𝗿𝗱. 𝗖𝗵𝗲𝗰𝗸 𝗶𝗳 𝗶𝘁 𝗰𝗼𝗻𝘁𝗮𝗶𝗻𝘀 𝗮𝘁 𝗹𝗲𝗮𝘀𝘁 𝟴 𝗰𝗵𝗮𝗿𝗮𝗰𝘁𝗲𝗿𝘀 𝗮𝗻𝗱 𝗽𝗿𝗶𝗻𝘁 𝘃𝗮𝗹𝗶𝗱𝗶𝘁𝘆.\n",
    "password = input(\"Enter your password: \")\n",
    "\n",
    "if len(password) >= 8:\n",
    "    print(\"Valid password\")\n",
    "else:\n",
    "    print(\"Password too short\")\n"
   ]
  },
  {
   "cell_type": "code",
   "execution_count": 12,
   "id": "c3e1028d",
   "metadata": {},
   "outputs": [
    {
     "name": "stdout",
     "output_type": "stream",
     "text": [
      "Total integers: 3\n"
     ]
    }
   ],
   "source": [
    "# 𝗖𝗿𝗲𝗮𝘁𝗲 𝗮 𝗹𝗶𝘀𝘁 𝗼𝗳 𝗺𝗶𝘅𝗲𝗱 𝘁𝘆𝗽𝗲𝘀. 𝗟𝗼𝗼𝗽 𝗮𝗻𝗱 𝗰𝗼𝘂𝗻𝘁 𝗵𝗼𝘄 𝗺𝗮𝗻𝘆 𝗮𝗿𝗲 𝗶𝗻𝘁𝗲𝗴𝗲𝗿𝘀.\n",
    "mixed = [12, \"hello\", 3.5, 7, True, 20]\n",
    "count = 0\n",
    "for item in mixed:\n",
    "    if type(item) == int:\n",
    "        count += 1\n",
    "print(\"Total integers:\", count)"
   ]
  },
  {
   "cell_type": "code",
   "execution_count": 13,
   "id": "795db87d",
   "metadata": {},
   "outputs": [
    {
     "name": "stdout",
     "output_type": "stream",
     "text": [
      "Total Python keywords: 35\n"
     ]
    }
   ],
   "source": [
    "# 𝗨𝘀𝗲 import keyword 𝗮𝗻𝗱 𝗽𝗿𝗶𝗻𝘁 𝘁𝗵𝗲 𝘁𝗼𝘁𝗮𝗹 𝗻𝘂𝗺𝗯𝗲𝗿 𝗼𝗳 𝗣𝘆𝘁𝗵𝗼𝗻 𝗸𝗲𝘆𝘄𝗼𝗿𝗱𝘀 𝘂𝘀𝗶𝗻𝗴 len(keyword.kwlist).\n",
    "import keyword\n",
    "\n",
    "print(\"Total Python keywords:\", len(keyword.kwlist))"
   ]
  }
 ],
 "metadata": {
  "kernelspec": {
   "display_name": "Python 3",
   "language": "python",
   "name": "python3"
  },
  "language_info": {
   "codemirror_mode": {
    "name": "ipython",
    "version": 3
   },
   "file_extension": ".py",
   "mimetype": "text/x-python",
   "name": "python",
   "nbconvert_exporter": "python",
   "pygments_lexer": "ipython3",
   "version": "3.13.5"
  }
 },
 "nbformat": 4,
 "nbformat_minor": 5
}
