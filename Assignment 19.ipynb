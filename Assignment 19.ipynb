{
 "cells": [
  {
   "cell_type": "markdown",
   "id": "b5166278",
   "metadata": {},
   "source": [
    " Use @dataclass to define a Person class with name, age, and email. Instantiate and display automatically generated _repr_() output."
   ]
  },
  {
   "cell_type": "code",
   "execution_count": null,
   "id": "bb79e9ad",
   "metadata": {},
   "outputs": [],
   "source": []
  },
  {
   "cell_type": "markdown",
   "id": "adb58d44",
   "metadata": {},
   "source": [
    "Add default values to fields, and override _post_init_() to validate age > 0."
   ]
  },
  {
   "cell_type": "code",
   "execution_count": null,
   "id": "ea5fa90d",
   "metadata": {},
   "outputs": [],
   "source": []
  },
  {
   "cell_type": "markdown",
   "id": "e598ded9",
   "metadata": {},
   "source": [
    " Implement a Book dataclass with title and author, plus a classmethod from_dict() to create instances from dictionaries."
   ]
  },
  {
   "cell_type": "code",
   "execution_count": null,
   "id": "0ebf064d",
   "metadata": {},
   "outputs": [],
   "source": []
  },
  {
   "cell_type": "markdown",
   "id": "a5984cd1",
   "metadata": {},
   "source": [
    "Define a metaclass TrackInstances that tracks all instances of classes using it, and apply to a sample class Tracker."
   ]
  },
  {
   "cell_type": "code",
   "execution_count": null,
   "id": "d074c8b0",
   "metadata": {},
   "outputs": [],
   "source": []
  },
  {
   "cell_type": "markdown",
   "id": "d636a7d0",
   "metadata": {},
   "source": [
    "Create two instances of Tracker and print a list of all tracked instances."
   ]
  },
  {
   "cell_type": "code",
   "execution_count": null,
   "id": "2728a0e6",
   "metadata": {},
   "outputs": [],
   "source": []
  },
  {
   "cell_type": "markdown",
   "id": "e6dd97b8",
   "metadata": {},
   "source": [
    "Demonstrate frozen=True in a dataclass ImmutablePoint(x, y) and illustrate behavior upon mutation attempt (should raise an error)."
   ]
  },
  {
   "cell_type": "code",
   "execution_count": null,
   "id": "025b0f9a",
   "metadata": {},
   "outputs": [],
   "source": []
  },
  {
   "cell_type": "markdown",
   "id": "1f244d12",
   "metadata": {},
   "source": [
    " Use metaclass to auto-add a created_at timestamp attribute to any instance upon its creation."
   ]
  },
  {
   "cell_type": "code",
   "execution_count": null,
   "id": "48d91400",
   "metadata": {},
   "outputs": [],
   "source": []
  },
  {
   "cell_type": "markdown",
   "id": "3031dafa",
   "metadata": {},
   "source": [
    "Create a dataclass Rectangle with width, height, and implement a area() method; override generated _eq_() for area-based equality."
   ]
  },
  {
   "cell_type": "code",
   "execution_count": null,
   "id": "3a932866",
   "metadata": {},
   "outputs": [],
   "source": []
  },
  {
   "cell_type": "markdown",
   "id": "bfcfed4f",
   "metadata": {},
   "source": [
    " Use make_dataclass() from dataclasses module to dynamically create a class DynamicPerson with attributes first_name and last_name."
   ]
  },
  {
   "cell_type": "code",
   "execution_count": null,
   "id": "348f6ea9",
   "metadata": {},
   "outputs": [],
   "source": []
  },
  {
   "cell_type": "markdown",
   "id": "983f1358",
   "metadata": {},
   "source": [
    " Demonstrate runtime type-checking by inspecting _annotations_ of a dataclass."
   ]
  },
  {
   "cell_type": "code",
   "execution_count": null,
   "id": "a8d2cf85",
   "metadata": {},
   "outputs": [],
   "source": []
  }
 ],
 "metadata": {
  "language_info": {
   "name": "python"
  }
 },
 "nbformat": 4,
 "nbformat_minor": 5
}
