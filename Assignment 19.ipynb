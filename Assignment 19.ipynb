{
 "cells": [
  {
   "cell_type": "markdown",
   "id": "b5166278",
   "metadata": {},
   "source": [
    " Use @dataclass to define a Person class with name, age, and email. Instantiate and display automatically generated _repr_() output."
   ]
  },
  {
   "cell_type": "code",
   "execution_count": 5,
   "id": "c1b0fa41",
   "metadata": {},
   "outputs": [
    {
     "name": "stdout",
     "output_type": "stream",
     "text": [
      "Person(name='Esha', age=22, email='esha@example.com')\n"
     ]
    }
   ],
   "source": [
    "from dataclasses import dataclass\n",
    "\n",
    "@dataclass\n",
    "class Person:\n",
    "    name: str\n",
    "    age: int\n",
    "    email: str\n",
    "\n",
    "p1 = Person(\"Esha\", 22, \"esha@example.com\")\n",
    "print(p1)   # _repr_ is auto created"
   ]
  },
  {
   "cell_type": "markdown",
   "id": "adb58d44",
   "metadata": {},
   "source": [
    "Add default values to fields, and override _post_init_() to validate age > 0."
   ]
  },
  {
   "cell_type": "code",
   "execution_count": 32,
   "id": "78e1bc5c",
   "metadata": {},
   "outputs": [
    {
     "name": "stdout",
     "output_type": "stream",
     "text": [
      "Person2(name='Sara', age=20, email='unknown@example.com')\n"
     ]
    }
   ],
   "source": [
    "from dataclasses import dataclass\n",
    "\n",
    "@dataclass\n",
    "class Person2:\n",
    "    name: str\n",
    "    age: int \n",
    "    email: str = \"unknown@example.com\"\n",
    "\n",
    "    def _post_init_(self):\n",
    "        if self.age >= 0:\n",
    "            raise ValueError(\"Age must be greater than 0\")\n",
    "\n",
    "p2 = Person2(\"Sara\", 20)\n",
    "print(p2)"
   ]
  },
  {
   "cell_type": "markdown",
   "id": "e598ded9",
   "metadata": {},
   "source": [
    " Implement a Book dataclass with title and author, plus a classmethod from_dict() to create instances from dictionaries."
   ]
  },
  {
   "cell_type": "code",
   "execution_count": 33,
   "id": "0ebf064d",
   "metadata": {},
   "outputs": [
    {
     "name": "stdout",
     "output_type": "stream",
     "text": [
      "Book(title='Python Basics', author='Arif kasim Rozani')\n"
     ]
    }
   ],
   "source": [
    "from dataclasses import dataclass\n",
    "\n",
    "@dataclass\n",
    "class Book:\n",
    "    title: str\n",
    "    author: str\n",
    "\n",
    "    @classmethod\n",
    "    def from_dict(cls, data: dict):\n",
    "        return cls(**data)\n",
    "\n",
    "book1 = Book.from_dict({\"title\": \"Python Basics\", \"author\": \"Arif kasim Rozani\"})\n",
    "print(book1)"
   ]
  },
  {
   "cell_type": "markdown",
   "id": "a5984cd1",
   "metadata": {},
   "source": [
    "Define a metaclass TrackInstances that tracks all instances of classes using it, and apply to a sample class Tracker."
   ]
  },
  {
   "cell_type": "code",
   "execution_count": 18,
   "id": "d074c8b0",
   "metadata": {},
   "outputs": [],
   "source": [
    "class TrackInstances(type):\n",
    "    def __init__(cls, name, bases, dct):\n",
    "        super().__init__(name, bases, dct)\n",
    "        cls._instances = []   # store instances\n",
    "\n",
    "    def __call__(cls, *args, **kwargs):\n",
    "        obj = super().__call__(*args, **kwargs)\n",
    "        cls._instances.append(obj)\n",
    "        return obj"
   ]
  },
  {
   "cell_type": "markdown",
   "id": "d636a7d0",
   "metadata": {},
   "source": [
    "Create two instances of Tracker and print a list of all tracked instances."
   ]
  },
  {
   "cell_type": "code",
   "execution_count": 28,
   "id": "239d9205",
   "metadata": {},
   "outputs": [
    {
     "name": "stdout",
     "output_type": "stream",
     "text": [
      "Tracked instances: [<__main__.Tracker object at 0x000001FCC7F0C590>, <__main__.Tracker object at 0x000001FCC7CCA5D0>]\n"
     ]
    }
   ],
   "source": [
    "class Tracker(metaclass=TrackInstances):\n",
    "    def __init__(self, name):\n",
    "        self.name = name\n",
    "\n",
    "t1 = Tracker(\"First\")\n",
    "t2 = Tracker(\"Second\")\n",
    "print(\"Tracked instances:\", Tracker._instances)"
   ]
  },
  {
   "cell_type": "markdown",
   "id": "e6dd97b8",
   "metadata": {},
   "source": [
    "Demonstrate frozen=True in a dataclass ImmutablePoint(x, y) and illustrate behavior upon mutation attempt (should raise an error)."
   ]
  },
  {
   "cell_type": "code",
   "execution_count": 19,
   "id": "025b0f9a",
   "metadata": {},
   "outputs": [
    {
     "name": "stdout",
     "output_type": "stream",
     "text": [
      "ImmutablePoint(x=2, y=3)\n"
     ]
    }
   ],
   "source": [
    "from dataclasses import dataclass\n",
    "\n",
    "@dataclass(frozen=True)\n",
    "class ImmutablePoint:\n",
    "    x: int\n",
    "    y: int\n",
    "\n",
    "p = ImmutablePoint(2, 3)\n",
    "print(p)"
   ]
  },
  {
   "cell_type": "markdown",
   "id": "1f244d12",
   "metadata": {},
   "source": [
    " Use metaclass to auto-add a created_at timestamp attribute to any instance upon its creation."
   ]
  },
  {
   "cell_type": "code",
   "execution_count": 22,
   "id": "48d91400",
   "metadata": {},
   "outputs": [
    {
     "name": "stdout",
     "output_type": "stream",
     "text": [
      "Date and Time 2025-08-31 03:37:52.664640\n"
     ]
    }
   ],
   "source": [
    "import datetime\n",
    "\n",
    "class AutoTimestamp(type):\n",
    "    def __call__(cls, *args, **kwargs):\n",
    "        obj = super().__call__(*args, **kwargs)\n",
    "        obj.created_at = datetime.datetime.now()\n",
    "        return obj\n",
    "\n",
    "class MyClass(metaclass=AutoTimestamp):\n",
    "    def __init__(self, name):\n",
    "        self.name = name\n",
    "\n",
    "x = MyClass(\"Date and Time\")\n",
    "print(x.name, x.created_at)"
   ]
  },
  {
   "cell_type": "markdown",
   "id": "3031dafa",
   "metadata": {},
   "source": [
    "Create a dataclass Rectangle with width, height, and implement a area() method; override generated _eq_() for area-based equality."
   ]
  },
  {
   "cell_type": "code",
   "execution_count": 23,
   "id": "3a932866",
   "metadata": {},
   "outputs": [
    {
     "name": "stdout",
     "output_type": "stream",
     "text": [
      "Areas equal? False\n"
     ]
    }
   ],
   "source": [
    "from dataclasses import dataclass\n",
    "\n",
    "@dataclass\n",
    "class Rectangle:\n",
    "    width: int\n",
    "    height: int\n",
    "\n",
    "    def area(self):\n",
    "        return self.width * self.height\n",
    "\n",
    "    def _eq_(self, other):\n",
    "        if isinstance(other, Rectangle):\n",
    "            return self.area() == other.area()\n",
    "        return False\n",
    "\n",
    "r1 = Rectangle(3, 6)\n",
    "r2 = Rectangle(2, 9)\n",
    "print(\"Areas equal?\", r1 == r2) "
   ]
  },
  {
   "cell_type": "markdown",
   "id": "bfcfed4f",
   "metadata": {},
   "source": [
    " Use make_dataclass() from dataclasses module to dynamically create a class DynamicPerson with attributes first_name and last_name."
   ]
  },
  {
   "cell_type": "code",
   "execution_count": 24,
   "id": "348f6ea9",
   "metadata": {},
   "outputs": [
    {
     "name": "stdout",
     "output_type": "stream",
     "text": [
      "DynamicPerson(first_name='Esha', last_name='Abid')\n"
     ]
    }
   ],
   "source": [
    "from dataclasses import make_dataclass\n",
    "\n",
    "DynamicPerson = make_dataclass(\"DynamicPerson\", [(\"first_name\", str), (\"last_name\", str)])\n",
    "\n",
    "dp = DynamicPerson(\"Esha\", \"Abid\")\n",
    "print(dp)"
   ]
  },
  {
   "cell_type": "markdown",
   "id": "983f1358",
   "metadata": {},
   "source": [
    " Demonstrate runtime type-checking by inspecting _annotations_ of a dataclass."
   ]
  },
  {
   "cell_type": "code",
   "execution_count": 26,
   "id": "a8d2cf85",
   "metadata": {},
   "outputs": [
    {
     "name": "stdout",
     "output_type": "stream",
     "text": [
      "Annotations: {'id': <class 'int'>, 'name': <class 'str'>, 'grade': <class 'float'>}\n"
     ]
    }
   ],
   "source": [
    "from dataclasses import dataclass\n",
    "\n",
    "@dataclass\n",
    "class Student:\n",
    "    id: int\n",
    "    name: str\n",
    "    grade: float\n",
    "\n",
    "print(\"Annotations:\", Student.__annotations__)"
   ]
  }
 ],
 "metadata": {
  "kernelspec": {
   "display_name": "Python 3",
   "language": "python",
   "name": "python3"
  },
  "language_info": {
   "codemirror_mode": {
    "name": "ipython",
    "version": 3
   },
   "file_extension": ".py",
   "mimetype": "text/x-python",
   "name": "python",
   "nbconvert_exporter": "python",
   "pygments_lexer": "ipython3",
   "version": "3.13.7"
  }
 },
 "nbformat": 4,
 "nbformat_minor": 5
}
